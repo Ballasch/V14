{
 "cells": [
  {
   "cell_type": "code",
   "execution_count": 8,
   "metadata": {},
   "outputs": [],
   "source": [
    "import numpy as np\n",
    "import matplotlib.pyplot as plt\n",
    "from scipy.signal import find_peaks\n",
    "from uncertainties import ufloat\n",
    "import uncertainties.unumpy as unp"
   ]
  },
  {
   "cell_type": "markdown",
   "metadata": {},
   "source": [
    "## Block 1 Aluminiumhülle"
   ]
  },
  {
   "cell_type": "code",
   "execution_count": 2,
   "metadata": {},
   "outputs": [],
   "source": [
    "block1_mitte = np.genfromtxt(\"Daten/Block 1/Block1_123.Spe\", unpack=True, skip_header=12, skip_footer= 14)\n",
    "block1_quer = np.genfromtxt(\"Daten/Block 1/Block1_159.Spe\", unpack=True, skip_header=12, skip_footer= 14)\n",
    "block1_ecke = np.genfromtxt(\"Daten/Block 1/Block1_26.Spe\", unpack=True, skip_header=12, skip_footer= 14)"
   ]
  },
  {
   "cell_type": "code",
   "execution_count": 10,
   "metadata": {},
   "outputs": [
    {
     "data": {
      "image/png": "[encoded data removed]",
      "text/plain": [
       "<Figure size 432x288 with 1 Axes>"
      ]
     },
     "metadata": {
      "needs_background": "light"
     },
     "output_type": "display_data"
    }
   ],
   "source": [
    "x = np.linspace(0, 100, 100)\n",
    "\n",
    "plt.xlabel(\"Channel\")\n",
    "plt.ylabel(\"counts\")\n",
    "plt.plot(x, block1_mitte[0:100], label=\"Messwerte\")\n",
    "plt.plot(x[18:49], block1_mitte[18:49], label=\"Compton-Kontinuum\")\n",
    "plt.plot(x[56:70], block1_mitte[56:70], label=\"Photopeak\")\n",
    "plt.grid()\n",
    "plt.legend()\n",
    "plt.savefig(\"content/Block1\")"
   ]
  },
  {
   "cell_type": "code",
   "execution_count": 11,
   "metadata": {},
   "outputs": [],
   "source": [
    "peak_mitte, _ = find_peaks(block1_mitte, distance=500)\n",
    "peak_quer, _ = find_peaks(block1_quer, distance=500)\n",
    "peak_ecke, _ = find_peaks(block1_ecke, distance=500)"
   ]
  },
  {
   "cell_type": "code",
   "execution_count": 31,
   "metadata": {},
   "outputs": [],
   "source": [
    "I_0_mitte = ufloat(block1_mitte[peak_mitte]/300, np.sqrt(block1_mitte[peak_mitte]/300))\n",
    "I_0_quer = ufloat(block1_mitte[peak_quer]/300, np.sqrt(block1_mitte[peak_quer]/300))\n",
    "I_0_ecke = ufloat(block1_mitte[peak_ecke]/300, np.sqrt(block1_mitte[peak_ecke]/300))\n",
    "\n",
    "I_0 = np.mean([block1_mitte[peak_mitte],block1_mitte[peak_quer],block1_mitte[peak_ecke]])\n",
    "I_0 = ufloat(I_0/300, 5)"
   ]
  },
  {
   "cell_type": "code",
   "execution_count": 32,
   "metadata": {},
   "outputs": [
    {
     "name": "stdout",
     "output_type": "stream",
     "text": [
      "30+/-5\n",
      "31+/-6\n",
      "30+/-5\n",
      "30+/-5\n"
     ]
    }
   ],
   "source": [
    "print(I_0_ecke)\n",
    "print(I_0_mitte)\n",
    "print(I_0_quer)\n",
    "print(I_0)"
   ]
  },
  {
   "cell_type": "markdown",
   "metadata": {},
   "source": [
    "## Block 2"
   ]
  },
  {
   "cell_type": "code",
   "execution_count": 33,
   "metadata": {},
   "outputs": [],
   "source": [
    "I_2 = []\n",
    "\n",
    "I_2.append( np.genfromtxt(\"Daten/Block 2/Block2_26.Spe\", unpack=True, skip_header=12, skip_footer= 14))\n",
    "I_2.append( np.genfromtxt(\"Daten/Block 2/Block2_48.Spe\", unpack=True, skip_header=12, skip_footer= 14))\n",
    "I_2.append( np.genfromtxt(\"Daten/Block 2/Block2_123.Spe\", unpack=True, skip_header=12, skip_footer= 14))\n",
    "I_2.append( np.genfromtxt(\"Daten/Block 2/Block2_159.Spe\", unpack=True, skip_header=12, skip_footer= 14))\n",
    "I_2.append( np.genfromtxt(\"Daten/Block 2/Block2_258.Spe\", unpack=True, skip_header=12, skip_footer= 14))\n",
    "I_2.append( np.genfromtxt(\"Daten/Block 2/Block2_369.Spe\", unpack=True, skip_header=12, skip_footer= 14))\n",
    "I_2.append( np.genfromtxt(\"Daten/Block 2/Block2_456.Spe\", unpack=True, skip_header=12, skip_footer= 14))\n",
    "I_2.append( np.genfromtxt(\"Daten/Block 2/Block2_741.Spe\", unpack=True, skip_header=12, skip_footer= 14))\n",
    "I_2.append( np.genfromtxt(\"Daten/Block 2/Block2_789.Spe\", unpack=True, skip_header=12, skip_footer= 14))\n",
    "\n",
    "I_2 = np.array(I_2)"
   ]
  },
  {
   "cell_type": "code",
   "execution_count": 115,
   "metadata": {},
   "outputs": [],
   "source": [
    "i_2 = []\n",
    "\n",
    "for i in I_2:\n",
    "    peak, _ = find_peaks(i, distance=500)\n",
    "    i_2.append(i[peak])\n",
    "\n",
    "i_2 = unp.uarray(i_2, np.sqrt(i_2))\n",
    "\n",
    "i_2_norm = i_2/300\n",
    "\n",
    "d = [2*np.sqrt(2), 2*np.sqrt(2), 3, 3*np.sqrt(2), 3, 3, 3, 3, 3]\n",
    "d = np.array(d)\n",
    "d_inv = 1/d"
   ]
  },
  {
   "cell_type": "code",
   "execution_count": 134,
   "metadata": {},
   "outputs": [
    {
     "data": {
      "text/plain": [
       "0.042590998718015964+/-0.054291270385988924"
      ]
     },
     "execution_count": 134,
     "metadata": {},
     "output_type": "execute_result"
    }
   ],
   "source": [
    "i_2 = unp.log(I_0/i_2_norm)\n",
    "mu_2 = []\n",
    "\n",
    "for i, ln in zip(i_2, d_inv):\n",
    "    mu_2.append(i*ln)\n",
    "\n",
    "mu_2 = np.array(mu_2)\n",
    "mu_2.mean()"
   ]
  },
  {
   "cell_type": "code",
   "execution_count": 136,
   "metadata": {},
   "outputs": [
    {
     "name": "stdout",
     "output_type": "stream",
     "text": [
      "[[0.05315322711475915+/-0.058825447481267]\n",
      " [0.04355349686289927+/-0.05882178690680849]\n",
      " [0.04068732565995026+/-0.055457571435228066]\n",
      " [0.04015091196331319+/-0.03921880585143792]\n",
      " [0.040104356533635144+/-0.055457352571798735]\n",
      " [0.04206551468082184+/-0.055458090368331305]\n",
      " [0.0463193681865373+/-0.0554597056503108]\n",
      " [0.03584642881264089+/-0.05545576555203357]\n",
      " [0.04143835864758662+/-0.05545785395819302]]\n"
     ]
    }
   ],
   "source": [
    "print(mu_2)"
   ]
  },
  {
   "cell_type": "markdown",
   "metadata": {},
   "source": [
    "## Block 3"
   ]
  },
  {
   "cell_type": "code",
   "execution_count": 147,
   "metadata": {},
   "outputs": [],
   "source": [
    "I_3 = []\n",
    "\n",
    "I_3.append( np.genfromtxt(\"Daten/Block 3/Block3_26.Spe\", unpack=True, skip_header=12, skip_footer= 14))\n",
    "I_3.append( np.genfromtxt(\"Daten/Block 3/Block3_48.Spe\", unpack=True, skip_header=12, skip_footer= 14))\n",
    "I_3.append( np.genfromtxt(\"Daten/Block 3/Block3_123.Spe\", unpack=True, skip_header=12, skip_footer= 14))\n",
    "I_3.append( np.genfromtxt(\"Daten/Block 3/Block3_147.Spe\", unpack=True, skip_header=12, skip_footer= 14))\n",
    "I_3.append( np.genfromtxt(\"Daten/Block 3/Block3_159.Spe\", unpack=True, skip_header=12, skip_footer= 14))\n",
    "I_3.append( np.genfromtxt(\"Daten/Block 3/Block3_159_addieren.Spe\", unpack=True, skip_header=12, skip_footer= 14))\n",
    "I_3.append( np.genfromtxt(\"Daten/Block 3/Block3_258.Spe\", unpack=True, skip_header=12, skip_footer= 14))\n",
    "I_3.append( np.genfromtxt(\"Daten/Block 3/Block3_369.Spe\", unpack=True, skip_header=12, skip_footer= 14))\n",
    "I_3.append( np.genfromtxt(\"Daten/Block 3/Block3_456.Spe\", unpack=True, skip_header=12, skip_footer= 14))\n",
    "I_3.append( np.genfromtxt(\"Daten/Block 3/Block3_789.Spe\", unpack=True, skip_header=12, skip_footer= 14))\n",
    "\n",
    "I_3 = np.array(I_3)"
   ]
  },
  {
   "cell_type": "code",
   "execution_count": 161,
   "metadata": {},
   "outputs": [
    {
     "name": "stdout",
     "output_type": "stream",
     "text": [
      "[array([345.]), array([493.]), array([327.]), array([361.]), array([193.]), array([173.]), array([362.]), array([352.]), array([328.]), array([403.])]\n",
      "[array([345.]), array([493.]), array([327.]), array([361.]), array([366.]), array([362.]), array([352.]), array([328.]), array([403.])]\n"
     ]
    }
   ],
   "source": [
    "i_3 = []\n",
    "\n",
    "for i in I_3:\n",
    "    peak, _ = find_peaks(i, distance=500)\n",
    "    i_3.append(i[peak])\n",
    "\n",
    "print(i_3)\n",
    "    \n",
    "i_3[4] = i_3[4] + i_3.pop(5)\n",
    "    \n",
    "print(i_3)\n",
    "    \n",
    "i_3 = np.array(i_3)    \n",
    "    \n",
    "i_3 = unp.uarray(i_3, np.sqrt(i_3))\n",
    "\n",
    "\n",
    "i_3_norm = i_3/300\n",
    "i_3_norm[4] = i_3_norm[4]*1/2\n",
    "\n",
    "\n",
    "d = [2*np.sqrt(2), 2*np.sqrt(2), 3, 3, 3*np.sqrt(2), 3, 3, 3, 3, 3]\n",
    "d = np.array(d)\n",
    "d_inv = 1/d"
   ]
  },
  {
   "cell_type": "code",
   "execution_count": 162,
   "metadata": {},
   "outputs": [
    {
     "data": {
      "text/plain": [
       "1.064216498138075+/-0.05457814979545568"
      ]
     },
     "execution_count": 162,
     "metadata": {},
     "output_type": "execute_result"
    }
   ],
   "source": [
    "i_3 = unp.log(I_0/i_3_norm)\n",
    "mu_3 = []\n",
    "\n",
    "for i, ln in zip(i_3, d_inv):\n",
    "    mu_3.append(i*ln)\n",
    "\n",
    "mu_3 = np.array(mu_3)\n",
    "mu_3.mean()"
   ]
  },
  {
   "cell_type": "code",
   "execution_count": 163,
   "metadata": {},
   "outputs": [
    {
     "name": "stdout",
     "output_type": "stream",
     "text": [
      "[[1.154515992576009+/-0.06169825720012687]\n",
      " [1.0283098924123488+/-0.06081040862133442]\n",
      " [1.106349531829787+/-0.05832185866490418]\n",
      " [1.073376936017911+/-0.058046850723378264]\n",
      " [0.9191262944760316+/-0.04101970342597217]\n",
      " [1.072454851520281+/-0.0580395265189096]\n",
      " [1.081792530262839+/-0.05811459741898421]\n",
      " [1.1053317193341567+/-0.05831297672943747]\n",
      " [1.0366907348133103+/-0.057769886797910106]]\n"
     ]
    }
   ],
   "source": [
    "print(mu_3)"
   ]
  },
  {
   "cell_type": "markdown",
   "metadata": {},
   "source": [
    "## Block 4"
   ]
  },
  {
   "cell_type": "markdown",
   "metadata": {},
   "source": [
    "Werte auslesen und auf 1 Sekunde normieren"
   ]
  },
  {
   "cell_type": "code",
   "execution_count": 9,
   "metadata": {},
   "outputs": [],
   "source": [
    "I_4 = []\n",
    "\n",
    "I_4.append( np.genfromtxt(\"Daten/Block 4/Block4_24.Spe\", unpack=True, skip_header=12, skip_footer= 14))\n",
    "I_4.append( np.genfromtxt(\"Daten/Block 4/Block4_26.Spe\", unpack=True, skip_header=12, skip_footer= 14))\n",
    "I_4.append( np.genfromtxt(\"Daten/Block 4/Block4_48.Spe\", unpack=True, skip_header=12, skip_footer= 14))\n",
    "I_4.append( np.genfromtxt(\"Daten/Block 4/Block4_68.Spe\", unpack=True, skip_header=12, skip_footer= 14))\n",
    "I_4.append( np.genfromtxt(\"Daten/Block 4/Block4_123.Spe\", unpack=True, skip_header=12, skip_footer= 14))\n",
    "I_4.append( np.genfromtxt(\"Daten/Block 4/Block4_147.Spe\", unpack=True, skip_header=12, skip_footer= 14))\n",
    "I_4.append( np.genfromtxt(\"Daten/Block 4/Block4_159.Spe\", unpack=True, skip_header=12, skip_footer= 14))\n",
    "I_4.append( np.genfromtxt(\"Daten/Block 4/Block4_258.Spe\", unpack=True, skip_header=12, skip_footer= 14))\n",
    "I_4.append( np.genfromtxt(\"Daten/Block 4/Block4_357.Spe\", unpack=True, skip_header=12, skip_footer= 14))\n",
    "I_4.append( np.genfromtxt(\"Daten/Block 4/Block4_369.Spe\", unpack=True, skip_header=12, skip_footer= 14))\n",
    "I_4.append( np.genfromtxt(\"Daten/Block 4/Block4_456.Spe\", unpack=True, skip_header=12, skip_footer= 14))\n",
    "I_4.append( np.genfromtxt(\"Daten/Block 4/Block4_789.Spe\", unpack=True, skip_header=12, skip_footer= 14))\n",
    "I_4 = np.array(I_4)"
   ]
  },
  {
   "cell_type": "code",
   "execution_count": 6,
   "metadata": {},
   "outputs": [
    {
     "name": "stdout",
     "output_type": "stream",
     "text": [
      "{0: 123, 1: 456, 2: 789, 3: 26, 4: 159, 5: 48, 6: 147, 7: 258, 8: 369, 9: 24, 10: 357, 11: 68}\n"
     ]
    }
   ],
   "source": [
    "reihenfolge_alt = [123,456,789,26,159,48,147,258,369,24,357,68]\n",
    "print({i:k for i,k in enumerate(reihenfolge_alt)})\n"
   ]
  },
  {
   "cell_type": "code",
   "execution_count": 13,
   "metadata": {},
   "outputs": [],
   "source": [
    "i_4 = []\n",
    "Nicht ganz richtig, wir müssen Net Area betrachten hier. I0 muss dementsprechend auch korrigiert werden\n",
    " for i in I_4:\n",
    "     peak, _ = find_peaks(i, distance=500)\n",
    "     i_4.append(i[peak])\n",
    "\n",
    "\n",
    "C =  np.array([14752,13959,13095,9203,8382,11430,41959,1732,40324,9735,8366,13498])\n",
    "C_err = np.array([146,170,168,140,107,194,274,52,279,161,104,170])\n",
    "uarrC = unp.uarray(C,C_err)\n",
    "\n",
    "#neu sortieren\n",
    "i_4 = uarrC[[9,3,5,11,0,6,4,7,10,8,1,2]] # vorher: [123,456,789,26,159,48,147,258,369,24,357,68] nachher so wie oben\n",
    "\n",
    "#Korrektur I_0 aus dem anderen Notebook\n",
    "#I_0 = ufloat(162.63777777777776,0.6069921796636588)\n",
    "    \n",
    "#i_4 = np.array(i_4)    \n",
    "    \n",
    "#i_4 = unp.uarray(i_4, np.sqrt(i_4))\n",
    "#i_4_fehler = np.sqrt(i_4)\n",
    "\n",
    "i_4_norm = unp.nominal_values(i_4)/300\n",
    "\n",
    "i_4 = unp.log(I_0/i_4_norm)\n",
    "#i_4_norm_fehler = np.sqrt((i_4_fehler/i_4)**2)*i_4_norm"
   ]
  },
  {
   "cell_type": "code",
   "execution_count": 19,
   "metadata": {},
   "outputs": [
    {
     "data": {
      "text/plain": [
       "array([1.611825062634552+/-0.003732172118663786,\n",
       "       1.6680231836019952+/-0.003732172118663786,\n",
       "       1.4513112236519956+/-0.0037321721186637864,\n",
       "       1.2850111751375004+/-0.003732172118663786,\n",
       "       1.1961740346444771+/-0.003732172118663786,\n",
       "       0.1508597504357735+/-0.003732172118663786,\n",
       "       1.7614661519558352+/-0.0037321721186637856,\n",
       "       3.338275891318472+/-0.003732172118663786,\n",
       "       1.7633768284387084+/-0.003732172118663786,\n",
       "       0.19060587626702005+/-0.0037321721186637856,\n",
       "       1.2514282399280938+/-0.0037321721186637864,\n",
       "       1.3153222234990398+/-0.0037321721186637856], dtype=object)"
      ]
     },
     "execution_count": 19,
     "metadata": {},
     "output_type": "execute_result"
    }
   ],
   "source": [
    "i_4"
   ]
  },
  {
   "cell_type": "markdown",
   "metadata": {},
   "source": [
    "Gewichtungsmatrix erstellen"
   ]
  },
  {
   "cell_type": "code",
   "execution_count": 21,
   "metadata": {},
   "outputs": [
    {
     "data": {
      "text/plain": [
       "array([0.004392109248400322, 0.004351486544549723, 0.004532346525846526,\n",
       "       0.004729120771108659, 0.004864573776366979, 0.02501928318939657,\n",
       "       0.004291662657019722, 0.003896026066089499, 0.004290529700732954,\n",
       "       0.019933085955747516, 0.0047773843889589995, 0.004688313024007347],\n",
       "      dtype=object)"
      ]
     },
     "execution_count": 21,
     "metadata": {},
     "output_type": "execute_result"
    }
   ],
   "source": [
    "\n",
    "\n",
    "sigma_i = unp.sqrt((I_0.s/I_0.n)**2 + (unp.std_devs(i_4)/unp.nominal_values(i_4))**2)\n",
    "sigma_i"
   ]
  },
  {
   "cell_type": "code",
   "execution_count": 22,
   "metadata": {},
   "outputs": [],
   "source": [
    "W = np.diag(sigma_i)\n",
    "W = np.array(W, dtype=float)"
   ]
  },
  {
   "cell_type": "markdown",
   "metadata": {},
   "source": [
    "Matrix erstelen"
   ]
  },
  {
   "cell_type": "code",
   "execution_count": 23,
   "metadata": {},
   "outputs": [],
   "source": [
    "def cubes_to_vector(cube_numbers, diagonal=False):\n",
    "    TOTAL_CUBES = 9\n",
    "    vector = np.zeros(TOTAL_CUBES)\n",
    "    for c in cube_numbers:\n",
    "        vector[c-1] = 1\n",
    "    if diagonal:\n",
    "        vector *= np.sqrt(2)\n",
    "    return vector"
   ]
  },
  {
   "cell_type": "code",
   "execution_count": 24,
   "metadata": {},
   "outputs": [],
   "source": [
    "rows = [\n",
    "    [2,4],\n",
    "    [2,6],\n",
    "    [4,8],\n",
    "    [6,8],\n",
    "    [1,2,3],\n",
    "    [1,4,7],\n",
    "    [1,5,9],\n",
    "    [2,5,8],\n",
    "    [3,5,7],\n",
    "    [3,6,9],\n",
    "    [4,5,6],\n",
    "    [7,8,9]\n",
    "]\n",
    "diag = [True, True, True, True, False, False, True, False, True, False, False, False]\n",
    "\n",
    "a = list(cubes_to_vector(r, d) for r, d in zip(rows, diag))\n",
    "a = np.array(a)"
   ]
  },
  {
   "cell_type": "markdown",
   "metadata": {},
   "source": [
    "Matrix manipulieren"
   ]
  },
  {
   "cell_type": "code",
   "execution_count": 25,
   "metadata": {},
   "outputs": [],
   "source": [
    "a_trans = np.transpose(a)\n",
    "klammer1= np.linalg.inv((np.matmul(a_trans,np.matmul(W,a))))\n",
    "klammer2 = np.matmul(np.matmul(a_trans, W), i_4)"
   ]
  },
  {
   "cell_type": "code",
   "execution_count": 26,
   "metadata": {},
   "outputs": [],
   "source": [
    "mu_4 = np.matmul(klammer1 , klammer2)"
   ]
  },
  {
   "cell_type": "code",
   "execution_count": 27,
   "metadata": {},
   "outputs": [
    {
     "name": "stdout",
     "output_type": "stream",
     "text": [
      "[-0.025597492361377316+/-0.001129701420767677\n",
      " 1.1651367792921201+/-0.0013493199865201753\n",
      " 0.015222248603073196+/-0.0011256963285542565\n",
      " 0.04128996935205434+/-0.0014308067664451655\n",
      " 1.1362876795653092+/-0.0005722657889170346\n",
      " -0.00030544298411261384+/-0.0014285496446223662\n",
      " 0.13100323381386944+/-0.001131229070608939\n",
      " 0.9708870358290622+/-0.001341523137700381\n",
      " 0.1704625198281411+/-0.0011271737814841276]\n"
     ]
    }
   ],
   "source": [
    "print(mu_4)"
   ]
  },
  {
   "cell_type": "code",
   "execution_count": 28,
   "metadata": {},
   "outputs": [],
   "source": [
    "a_inv = np.linalg.inv(a_trans @ a)\n",
    "mu = a_inv @ a_trans @ i_4"
   ]
  },
  {
   "cell_type": "code",
   "execution_count": 29,
   "metadata": {},
   "outputs": [
    {
     "name": "stdout",
     "output_type": "stream",
     "text": [
      "[-0.02944187914588156+/-0.0010900558506127989\n",
      " 1.1686757331404627+/-0.0013829416460876963\n",
      " 0.010570164816146588+/-0.0010900558506128004\n",
      " 0.03476882921444696+/-0.001382941646087697\n",
      " 1.1419412896352088+/-0.000628051283787416\n",
      " -0.004158080580668591+/-0.0013829416460876965\n",
      " 0.12689044455024057+/-0.0010900558506128008\n",
      " 0.9765103269004752+/-0.0013829416460876965\n",
      " 0.1655514362145749+/-0.0010900558506128]\n"
     ]
    }
   ],
   "source": [
    "print(mu)"
   ]
  },
  {
   "cell_type": "code",
   "execution_count": null,
   "metadata": {},
   "outputs": [],
   "source": []
  }
 ],
 "metadata": {
  "kernelspec": {
   "display_name": "Python 3.9.12 ('base')",
   "language": "python",
   "name": "python3"
  },
  "language_info": {
   "codemirror_mode": {
    "name": "ipython",
    "version": 3
   },
   "file_extension": ".py",
   "mimetype": "text/x-python",
   "name": "python",
   "nbconvert_exporter": "python",
   "pygments_lexer": "ipython3",
   "version": "3.9.12"
  },
  "vscode": {
   "interpreter": {
    "hash": "4ff68fc3c4f612bdd407460aa542a69bb060862b7961a1169aa6f7c96474d5a2"
   }
  }
 },
 "nbformat": 4,
 "nbformat_minor": 4
}
