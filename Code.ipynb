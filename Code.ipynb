{
 "cells": [
  {
   "cell_type": "code",
   "execution_count": 64,
   "id": "1c1d3fe3-216b-4703-a549-49d9bbfe87e1",
   "metadata": {},
   "outputs": [],
   "source": [
    "import numpy as np\n",
    "import matplotlib.pyplot as plt\n",
    "import seaborn as sns\n",
    "import os\n",
    "from scipy.signal import find_peaks\n",
    "import pandas as pd\n",
    "from uncertainties import ufloat\n",
    "import uncertainties.unumpy as unp\n",
    "sns.set()\n",
    "sns.set_theme()\n",
    "sns.set_palette(\"magma\")"
   ]
  },
  {
   "cell_type": "code",
   "execution_count": 2,
   "id": "703cefc8",
   "metadata": {},
   "outputs": [],
   "source": [
    "\n",
    "for root, dirs, files in os.walk(\"Daten/\"):\n",
    "    for filename in files:\n",
    "        break"
   ]
  },
  {
   "cell_type": "code",
   "execution_count": 19,
   "id": "1d500288",
   "metadata": {},
   "outputs": [],
   "source": [
    "pathDict = {\n",
    "    1:24,\n",
    "    2:357,\n",
    "    3:68,\n",
    "    4:123, \n",
    "    5:456,\n",
    "    6:789,\n",
    "    7:26,\n",
    "    8:159,\n",
    "    9:48,\n",
    "    10:369,\n",
    "    11:258,\n",
    "    12:147\n",
    "}\n",
    "inv_pathDict = {pathDict[k]:k for k in pathDict}"
   ]
  },
  {
   "cell_type": "code",
   "execution_count": 54,
   "id": "540ef48c",
   "metadata": {},
   "outputs": [
    {
     "data": {
      "image/png": "[encoded data removed]",
      "text/plain": [
       "<Figure size 432x288 with 1 Axes>"
      ]
     },
     "metadata": {},
     "output_type": "display_data"
    }
   ],
   "source": [
    "data = np.genfromtxt(\"Daten/Block 1/Block1_159.Spe\", skip_header=12, skip_footer=14)\n",
    "#plt.plot(peaks,data[peaks],\"x\")\n",
    "#plt.plot(np.arange(30,65),data[30:65],\"o\")\n",
    "\n",
    "plt.plot(np.arange(19,48),data[19:48],\"o\",label=\"Rückstreuung\")\n",
    "plt.plot(np.arange(35,55),data[35:55],\"go\", label=\"Compton-Kante\")\n",
    "plt.plot(np.arange(55,70),data[55:70], \"ro\", label=\"Photo-Peak\")\n",
    "#lt.plot[]\n",
    "#plt.xlim(25,95)\n",
    "plt.grid(True)\n",
    "plt.legend()\n",
    "plt.tight_layout()\n",
    "plt.savefig(\"Daten/leerlauf.pdf\")"
   ]
  },
  {
   "cell_type": "markdown",
   "id": "23985d7e",
   "metadata": {},
   "source": [
    "# Block 1 Messungen"
   ]
  },
  {
   "cell_type": "code",
   "execution_count": 4,
   "id": "26e3d1cc",
   "metadata": {},
   "outputs": [
    {
     "name": "stdout",
     "output_type": "stream",
     "text": [
      "Block1_123.Spe\n",
      "Daten/Block 1/Block1_123.Spe\n",
      "Block1_159.Spe\n",
      "Daten/Block 1/Block1_159.Spe\n",
      "Block1_26.Spe\n",
      "Daten/Block 1/Block1_26.Spe\n"
     ]
    }
   ],
   "source": [
    "filepath = []\n",
    "peakValue = []\n",
    "peakIndex = []\n",
    "for root, dirs, files in os.walk(\"Daten/Block 1/\"):\n",
    "    for filename in files:\n",
    "        filepath.append(os.path.join(root,filename))\n",
    "        print(os.path.join(root,filename))\n",
    "        data = np.genfromtxt(os.path.join(root,filename), skip_header=12, skip_footer=14)\n",
    "        peaks, _ = find_peaks(data, prominence=2000) \n",
    "        peakIndex.append(peaks)\n",
    "        peakValue.append(data[peaks])\n",
    "\n",
    "        "
   ]
  },
  {
   "cell_type": "code",
   "execution_count": 96,
   "metadata": {},
   "outputs": [
    {
     "data": {
      "text/html": [
       "<div>\n",
       "<style scoped>\n",
       "    .dataframe tbody tr th:only-of-type {\n",
       "        vertical-align: middle;\n",
       "    }\n",
       "\n",
       "    .dataframe tbody tr th {\n",
       "        vertical-align: top;\n",
       "    }\n",
       "\n",
       "    .dataframe thead th {\n",
       "        text-align: right;\n",
       "    }\n",
       "</style>\n",
       "<table border=\"1\" class=\"dataframe\">\n",
       "  <thead>\n",
       "    <tr style=\"text-align: right;\">\n",
       "      <th></th>\n",
       "      <th>C</th>\n",
       "      <th>Zeit</th>\n",
       "      <th>I</th>\n",
       "    </tr>\n",
       "  </thead>\n",
       "  <tbody>\n",
       "    <tr>\n",
       "      <th>0</th>\n",
       "      <td>9163</td>\n",
       "      <td>300</td>\n",
       "      <td>30.54</td>\n",
       "    </tr>\n",
       "    <tr>\n",
       "      <th>1</th>\n",
       "      <td>9359</td>\n",
       "      <td>300</td>\n",
       "      <td>31.20</td>\n",
       "    </tr>\n",
       "    <tr>\n",
       "      <th>2</th>\n",
       "      <td>9335</td>\n",
       "      <td>300</td>\n",
       "      <td>31.12</td>\n",
       "    </tr>\n",
       "  </tbody>\n",
       "</table>\n",
       "</div>"
      ],
      "text/plain": [
       "      C  Zeit      I\n",
       "0  9163   300  30.54\n",
       "1  9359   300  31.20\n",
       "2  9335   300  31.12"
      ]
     },
     "execution_count": 96,
     "metadata": {},
     "output_type": "execute_result"
    }
   ],
   "source": [
    "data = pd.DataFrame([])\n",
    "peakValue=np.array(peakValue)\n",
    "data[\"Zeit\"] = 300*np.ones(len(filepath))\n",
    "data[\"C\"] = peakValue\n",
    "\n",
    "data[\"I\"] = data[\"C\"]/data[\"Zeit\"]\n",
    "reihenfolge = [\"C\",\"Zeit\" , \"I\"]\n",
    "data = data.reindex(columns = reihenfolge)\n",
    "data.astype({\"Zeit\":int, \"C\":int}).round({\"I\":2})"
   ]
  },
  {
   "cell_type": "code",
   "execution_count": 61,
   "id": "18ead7f9",
   "metadata": {},
   "outputs": [
    {
     "name": "stdout",
     "output_type": "stream",
     "text": [
      "\\begin{tabular}{rrll}\n",
      "\\toprule\n",
      " Projektion &  Zeit &                   C &           I \\\\\n",
      "\\midrule\n",
      "          4 &   300 & (4.918+/-0.031)e+04 & 163.9+/-1.0 \\\\\n",
      "          7 &   300 & (4.860+/-0.032)e+04 & 162.0+/-1.1 \\\\\n",
      "          8 &   300 & (4.860+/-0.032)e+04 & 162.0+/-1.1 \\\\\n",
      "\\bottomrule\n",
      "\\end{tabular}\n",
      "\n"
     ]
    },
    {
     "name": "stderr",
     "output_type": "stream",
     "text": [
      "/tmp/ipykernel_1288/2855026386.py:11: FutureWarning: In future versions `DataFrame.to_latex` is expected to utilise the base implementation of `Styler.to_latex` for formatting and rendering. The arguments signature may therefore change. It is recommended instead to use `DataFrame.style.to_latex` which also contains additional functionality.\n",
      "  print(df.to_latex(index=False))\n"
     ]
    }
   ],
   "source": [
    "C =  np.array([ufloat(49176,306), ufloat(48599,320), ufloat(48599,320)])\n",
    "j = np.array([inv_pathDict[k] for k in [123,26,159]])\n",
    "t = np.array([300 for i in range(3)])\n",
    "\n",
    "df = pd.DataFrame(columns=[\"Projektion\", \"Zeit\",\"C\",\"I\"])\n",
    "df[\"Projektion\"] = j \n",
    "df[\"Zeit\"] = t \n",
    "df[\"C\"] = C\n",
    "df[\"I\"] = C/t \n",
    "\n",
    "print(df.to_latex(index=False))"
   ]
  },
  {
   "cell_type": "markdown",
   "id": "f07ce7bf",
   "metadata": {},
   "source": [
    "# BLOCK 2"
   ]
  },
  {
   "cell_type": "code",
   "execution_count": 94,
   "id": "6100a8f6",
   "metadata": {},
   "outputs": [
    {
     "data": {
      "text/html": [
       "<div>\n",
       "<style scoped>\n",
       "    .dataframe tbody tr th:only-of-type {\n",
       "        vertical-align: middle;\n",
       "    }\n",
       "\n",
       "    .dataframe tbody tr th {\n",
       "        vertical-align: top;\n",
       "    }\n",
       "\n",
       "    .dataframe thead th {\n",
       "        text-align: right;\n",
       "    }\n",
       "</style>\n",
       "<table border=\"1\" class=\"dataframe\">\n",
       "  <thead>\n",
       "    <tr style=\"text-align: right;\">\n",
       "      <th></th>\n",
       "      <th>C</th>\n",
       "      <th>Zeit</th>\n",
       "      <th>I</th>\n",
       "    </tr>\n",
       "  </thead>\n",
       "  <tbody>\n",
       "    <tr>\n",
       "      <th>0</th>\n",
       "      <td>7998</td>\n",
       "      <td>300</td>\n",
       "      <td>26.66</td>\n",
       "    </tr>\n",
       "    <tr>\n",
       "      <th>1</th>\n",
       "      <td>7621</td>\n",
       "      <td>300</td>\n",
       "      <td>25.40</td>\n",
       "    </tr>\n",
       "    <tr>\n",
       "      <th>2</th>\n",
       "      <td>8012</td>\n",
       "      <td>300</td>\n",
       "      <td>26.71</td>\n",
       "    </tr>\n",
       "    <tr>\n",
       "      <th>3</th>\n",
       "      <td>7775</td>\n",
       "      <td>300</td>\n",
       "      <td>25.92</td>\n",
       "    </tr>\n",
       "    <tr>\n",
       "      <th>4</th>\n",
       "      <td>7965</td>\n",
       "      <td>300</td>\n",
       "      <td>26.55</td>\n",
       "    </tr>\n",
       "    <tr>\n",
       "      <th>5</th>\n",
       "      <td>7864</td>\n",
       "      <td>300</td>\n",
       "      <td>26.21</td>\n",
       "    </tr>\n",
       "    <tr>\n",
       "      <th>6</th>\n",
       "      <td>7989</td>\n",
       "      <td>300</td>\n",
       "      <td>26.63</td>\n",
       "    </tr>\n",
       "    <tr>\n",
       "      <th>7</th>\n",
       "      <td>8115</td>\n",
       "      <td>300</td>\n",
       "      <td>27.05</td>\n",
       "    </tr>\n",
       "    <tr>\n",
       "      <th>8</th>\n",
       "      <td>7980</td>\n",
       "      <td>300</td>\n",
       "      <td>26.60</td>\n",
       "    </tr>\n",
       "  </tbody>\n",
       "</table>\n",
       "</div>"
      ],
      "text/plain": [
       "      C  Zeit      I\n",
       "0  7998   300  26.66\n",
       "1  7621   300  25.40\n",
       "2  8012   300  26.71\n",
       "3  7775   300  25.92\n",
       "4  7965   300  26.55\n",
       "5  7864   300  26.21\n",
       "6  7989   300  26.63\n",
       "7  8115   300  27.05\n",
       "8  7980   300  26.60"
      ]
     },
     "execution_count": 94,
     "metadata": {},
     "output_type": "execute_result"
    }
   ],
   "source": [
    "filepath = []\n",
    "peakValue = []\n",
    "peakIndex = []\n",
    "for root, dirs, files in os.walk(\"Daten/Block 2/\"):\n",
    "    for filename in files:\n",
    "        filepath.append(os.path.join(root,filename))\n",
    "        data = np.genfromtxt(os.path.join(root,filename), skip_header=12, skip_footer=14)\n",
    "        peaks, _ = find_peaks(data, prominence=2000) \n",
    "        peakIndex.append(peaks)\n",
    "        peakValue.append(data[peaks])\n",
    "\n",
    "data = pd.DataFrame([])\n",
    "peakValue=np.array(peakValue)\n",
    "data[\"Zeit\"] = 300*np.ones(len(filepath))\n",
    "data[\"C\"] = peakValue\n",
    "\n",
    "data[\"I\"] = data[\"C\"]/data[\"Zeit\"]\n",
    "reihenfolge = [\"C\",\"Zeit\" , \"I\"]\n",
    "data = data.reindex(columns = reihenfolge)\n",
    "data.astype({\"Zeit\":int, \"C\":int}).round({\"I\":2})\n"
   ]
  },
  {
   "cell_type": "code",
   "execution_count": 66,
   "id": "697e91c4",
   "metadata": {},
   "outputs": [
    {
     "name": "stdout",
     "output_type": "stream",
     "text": [
      "\\begin{tabular}{rrrrl}\n",
      "\\toprule\n",
      " Projektion &  Zeit &     C &  C\\_err &           I \\\\\n",
      "\\midrule\n",
      "          4 &   300 & 41777 &    300 & 139.3+/-1.0 \\\\\n",
      "          5 &   300 & 43230 &    289 & 144.1+/-1.0 \\\\\n",
      "          6 &   300 & 41772 &    287 & 139.2+/-1.0 \\\\\n",
      "          7 &   300 & 43714 &    273 & 145.7+/-0.9 \\\\\n",
      "          8 &   300 & 42274 &    259 & 140.9+/-0.9 \\\\\n",
      "          9 &   300 & 41326 &    297 & 137.8+/-1.0 \\\\\n",
      "         12 &   300 & 41886 &    297 & 139.6+/-1.0 \\\\\n",
      "         11 &   300 & 42662 &    288 & 142.2+/-1.0 \\\\\n",
      "         10 &   300 & 44080 &    280 & 146.9+/-0.9 \\\\\n",
      "\\bottomrule\n",
      "\\end{tabular}\n",
      "\n"
     ]
    },
    {
     "name": "stderr",
     "output_type": "stream",
     "text": [
      "/tmp/ipykernel_1288/1840750910.py:14: FutureWarning: In future versions `DataFrame.to_latex` is expected to utilise the base implementation of `Styler.to_latex` for formatting and rendering. The arguments signature may therefore change. It is recommended instead to use `DataFrame.style.to_latex` which also contains additional functionality.\n",
      "  print(df.to_latex(index=False))\n"
     ]
    }
   ],
   "source": [
    "C =  np.array([41777,43230,41772,43714,42274,41326,41886,42662,44080])\n",
    "C_err = np.array([300,289,287,273,259,297,297,288,280])\n",
    "uarrC = unp.uarray(C,C_err)\n",
    "j = np.array([inv_pathDict[k] for k in [123,456,789,26,159,48,147,258,369]])\n",
    "t = np.array([300 for i in range(C.size)])\n",
    "\n",
    "df = pd.DataFrame(columns=[\"Projektion\", \"Zeit\",\"C\",\"C_err\",\"I\"])\n",
    "df[\"Projektion\"] = j \n",
    "df[\"Zeit\"] = t \n",
    "df[\"C\"] = C\n",
    "df[\"C_err\"] = C_err\n",
    "df[\"I\"] = uarrC/t \n",
    "\n",
    "print(df.to_latex(index=False))"
   ]
  },
  {
   "cell_type": "markdown",
   "id": "71e4b168",
   "metadata": {},
   "source": [
    "# Block 3"
   ]
  },
  {
   "cell_type": "code",
   "execution_count": 115,
   "id": "946d49f3",
   "metadata": {},
   "outputs": [
    {
     "data": {
      "text/html": [
       "<div>\n",
       "<style scoped>\n",
       "    .dataframe tbody tr th:only-of-type {\n",
       "        vertical-align: middle;\n",
       "    }\n",
       "\n",
       "    .dataframe tbody tr th {\n",
       "        vertical-align: top;\n",
       "    }\n",
       "\n",
       "    .dataframe thead th {\n",
       "        text-align: right;\n",
       "    }\n",
       "</style>\n",
       "<table border=\"1\" class=\"dataframe\">\n",
       "  <thead>\n",
       "    <tr style=\"text-align: right;\">\n",
       "      <th></th>\n",
       "      <th>C</th>\n",
       "      <th>Zeit</th>\n",
       "      <th>I</th>\n",
       "    </tr>\n",
       "  </thead>\n",
       "  <tbody>\n",
       "    <tr>\n",
       "      <th>0</th>\n",
       "      <td>327</td>\n",
       "      <td>300</td>\n",
       "      <td>1.09</td>\n",
       "    </tr>\n",
       "    <tr>\n",
       "      <th>1</th>\n",
       "      <td>361</td>\n",
       "      <td>300</td>\n",
       "      <td>1.20</td>\n",
       "    </tr>\n",
       "    <tr>\n",
       "      <th>2</th>\n",
       "      <td>155</td>\n",
       "      <td>300</td>\n",
       "      <td>0.52</td>\n",
       "    </tr>\n",
       "    <tr>\n",
       "      <th>3</th>\n",
       "      <td>152</td>\n",
       "      <td>300</td>\n",
       "      <td>0.51</td>\n",
       "    </tr>\n",
       "    <tr>\n",
       "      <th>4</th>\n",
       "      <td>362</td>\n",
       "      <td>300</td>\n",
       "      <td>1.21</td>\n",
       "    </tr>\n",
       "    <tr>\n",
       "      <th>5</th>\n",
       "      <td>345</td>\n",
       "      <td>300</td>\n",
       "      <td>1.15</td>\n",
       "    </tr>\n",
       "    <tr>\n",
       "      <th>6</th>\n",
       "      <td>352</td>\n",
       "      <td>300</td>\n",
       "      <td>1.17</td>\n",
       "    </tr>\n",
       "    <tr>\n",
       "      <th>7</th>\n",
       "      <td>328</td>\n",
       "      <td>300</td>\n",
       "      <td>1.09</td>\n",
       "    </tr>\n",
       "    <tr>\n",
       "      <th>8</th>\n",
       "      <td>493</td>\n",
       "      <td>300</td>\n",
       "      <td>1.64</td>\n",
       "    </tr>\n",
       "    <tr>\n",
       "      <th>9</th>\n",
       "      <td>403</td>\n",
       "      <td>300</td>\n",
       "      <td>1.34</td>\n",
       "    </tr>\n",
       "  </tbody>\n",
       "</table>\n",
       "</div>"
      ],
      "text/plain": [
       "     C  Zeit     I\n",
       "0  327   300  1.09\n",
       "1  361   300  1.20\n",
       "2  155   300  0.52\n",
       "3  152   300  0.51\n",
       "4  362   300  1.21\n",
       "5  345   300  1.15\n",
       "6  352   300  1.17\n",
       "7  328   300  1.09\n",
       "8  493   300  1.64\n",
       "9  403   300  1.34"
      ]
     },
     "execution_count": 115,
     "metadata": {},
     "output_type": "execute_result"
    }
   ],
   "source": [
    "filepath = []\n",
    "peakValue = []\n",
    "peakIndex = []\n",
    "for root, dirs, files in os.walk(\"Daten/Block 3/\"):\n",
    "    for filename in files:\n",
    "        #print(os.path.join(root,filename))\n",
    "        filepath.append(os.path.join(root,filename))\n",
    "        data = np.genfromtxt(os.path.join(root,filename), skip_header=12, skip_footer=14)\n",
    "        peaks, _ = find_peaks(data,prominence=50)\n",
    "        peaks = peaks[1] \n",
    "        # plt.plot(peaks,data[peaks],\"x\")\n",
    "        # plt.plot(data)\n",
    "        # plt.show()\n",
    "        peakIndex.append(peaks)\n",
    "        peakValue.append(data[peaks])\n",
    "\n",
    "data = pd.DataFrame([])\n",
    "peakValue=np.array(peakValue)\n",
    "data[\"Zeit\"] = 300*np.ones(len(filepath))\n",
    "data[\"C\"] = peakValue\n",
    "\n",
    "data[\"I\"] = data[\"C\"]/data[\"Zeit\"]\n",
    "reihenfolge = [\"C\",\"Zeit\" , \"I\"]\n",
    "data = data.reindex(columns = reihenfolge)\n",
    "data.astype({\"Zeit\":int, \"C\":int}).round({\"I\":2})"
   ]
  },
  {
   "cell_type": "code",
   "execution_count": null,
   "id": "ad6cff89",
   "metadata": {},
   "outputs": [],
   "source": [
    "C =  np.array([1788,1751,2148,1928,2689,679*2, 2145,1829,1904])\n",
    "C_err = np.array([55,56,58,60,62,36*2,60,60,60])\n",
    "uarrC = unp.uarray(C,C_err)\n",
    "j = np.array([inv_pathDict[k] for k in [123,456,789,26,48,159,147,258,369]])\n",
    "t = np.array([300 for i in range(C.size)])\n",
    "\n",
    "df = pd.DataFrame(columns=[\"Projektion\", \"Zeit\",\"C\",\"C_err\",\"I\"])\n",
    "df[\"Projektion\"] = j \n",
    "df[\"Zeit\"] = t \n",
    "df[\"C\"] = C\n",
    "df[\"C_err\"] = C_err\n",
    "df[\"I\"] = uarrC/t \n",
    "\n",
    "print(df.to_latex(index=False))"
   ]
  },
  {
   "cell_type": "code",
   "execution_count": 67,
   "id": "c6dd4f01",
   "metadata": {},
   "outputs": [
    {
     "data": {
      "text/plain": [
       "300.0+/-40.0"
      ]
     },
     "execution_count": 67,
     "metadata": {},
     "output_type": "execute_result"
    }
   ],
   "source": [
    "ufloat(150,20)*2"
   ]
  },
  {
   "cell_type": "markdown",
   "id": "7e6701a5",
   "metadata": {},
   "source": [
    "# Block 4"
   ]
  },
  {
   "cell_type": "code",
   "execution_count": 119,
   "id": "fd0c9f36",
   "metadata": {},
   "outputs": [
    {
     "name": "stdout",
     "output_type": "stream",
     "text": [
      "\\begin{tabular}{lrrr}\n",
      "\\toprule\n",
      "{} &    C &  Zeit &     I \\\\\n",
      "\\midrule\n",
      "0 &  327 &   300 &  1.09 \\\\\n",
      "1 &  361 &   300 &  1.20 \\\\\n",
      "2 &  155 &   300 &  0.52 \\\\\n",
      "3 &  152 &   300 &  0.51 \\\\\n",
      "4 &  362 &   300 &  1.21 \\\\\n",
      "5 &  345 &   300 &  1.15 \\\\\n",
      "6 &  352 &   300 &  1.17 \\\\\n",
      "7 &  328 &   300 &  1.09 \\\\\n",
      "8 &  493 &   300 &  1.64 \\\\\n",
      "9 &  403 &   300 &  1.34 \\\\\n",
      "\\bottomrule\n",
      "\\end{tabular}\n",
      "\n"
     ]
    },
    {
     "name": "stderr",
     "output_type": "stream",
     "text": [
      "/tmp/ipykernel_777/1894960086.py:27: FutureWarning: In future versions `DataFrame.to_latex` is expected to utilise the base implementation of `Styler.to_latex` for formatting and rendering. The arguments signature may therefore change. It is recommended instead to use `DataFrame.style.to_latex` which also contains additional functionality.\n",
      "  print(neuData.to_latex())\n"
     ]
    }
   ],
   "source": [
    "filepath = []\n",
    "peakValue = []\n",
    "peakIndex = []\n",
    "for root, dirs, files in os.walk(\"Daten/Block 3/\"):\n",
    "    for filename in files:\n",
    "        #print(os.path.join(root,filename))\n",
    "        filepath.append(os.path.join(root,filename))\n",
    "        data = np.genfromtxt(os.path.join(root,filename), skip_header=12, skip_footer=14)\n",
    "        peaks, _ = find_peaks(data,prominence=50)\n",
    "        peaks = peaks[1] \n",
    "        # plt.plot(peaks,data[peaks],\"x\")\n",
    "        # plt.plot(data)\n",
    "        # plt.show()\n",
    "        peakIndex.append(peaks)\n",
    "        peakValue.append(data[peaks])\n",
    "\n",
    "data = pd.DataFrame([])\n",
    "peakValue=np.array(peakValue)\n",
    "data[\"Zeit\"] = 300*np.ones(len(filepath))\n",
    "data[\"C\"] = peakValue\n",
    "\n",
    "data[\"I\"] = data[\"C\"]/data[\"Zeit\"]\n",
    "reihenfolge = [\"C\",\"Zeit\" , \"I\"]\n",
    "data = data.reindex(columns = reihenfolge)\n",
    "neuData = data.astype({\"Zeit\":int, \"C\":int}).round({\"I\":2})\n",
    "\n",
    "print(neuData.to_latex())"
   ]
  }
 ],
 "metadata": {
  "kernelspec": {
   "display_name": "Python 3.9.12 ('base')",
   "language": "python",
   "name": "python3"
  },
  "language_info": {
   "codemirror_mode": {
    "name": "ipython",
    "version": 3
   },
   "file_extension": ".py",
   "mimetype": "text/x-python",
   "name": "python",
   "nbconvert_exporter": "python",
   "pygments_lexer": "ipython3",
   "version": "3.9.12"
  },
  "vscode": {
   "interpreter": {
    "hash": "4ff68fc3c4f612bdd407460aa542a69bb060862b7961a1169aa6f7c96474d5a2"
   }
  }
 },
 "nbformat": 4,
 "nbformat_minor": 5
}
