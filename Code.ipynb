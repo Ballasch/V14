{
 "cells": [
  {
   "cell_type": "code",
   "execution_count": 94,
   "id": "1c1d3fe3-216b-4703-a549-49d9bbfe87e1",
   "metadata": {},
   "outputs": [],
   "source": [
    "import numpy as np\n",
    "import matplotlib.pyplot as plt\n",
    "import seaborn as sns\n",
    "import os\n",
    "from scipy.signal import find_peaks\n",
    "import pandas as pd\n",
    "from uncertainties import ufloat\n",
    "import uncertainties.unumpy as unp\n",
    "from IPython.display import Math, Latex\n",
    "sns.set()\n",
    "sns.set_theme()\n",
    "sns.set_palette(\"magma\")\n",
    "\n",
    "from sympy import * \n",
    "init_printing(use_unicode=True)"
   ]
  },
  {
   "cell_type": "code",
   "execution_count": 19,
   "id": "703cefc8",
   "metadata": {},
   "outputs": [],
   "source": [
    "\n",
    "for root, dirs, files in os.walk(\"Daten/\"):\n",
    "    for filename in files:\n",
    "        break"
   ]
  },
  {
   "cell_type": "code",
   "execution_count": 20,
   "id": "1d500288",
   "metadata": {},
   "outputs": [],
   "source": [
    "pathDict = {\n",
    "    1:24,\n",
    "    2:357,\n",
    "    3:68,\n",
    "    4:123, \n",
    "    5:456,\n",
    "    6:789,\n",
    "    7:26,\n",
    "    8:159,\n",
    "    9:48,\n",
    "    10:369,\n",
    "    11:258,\n",
    "    12:147\n",
    "}\n",
    "inv_pathDict = {pathDict[k]:k for k in pathDict}"
   ]
  },
  {
   "cell_type": "code",
   "execution_count": 21,
   "id": "04097a0e",
   "metadata": {},
   "outputs": [],
   "source": [
    "# Für Vergleiche mit einem Altprotokoll\n",
    "pathNew = { \n",
    "    1:10,\n",
    "    2:11,\n",
    "    3:12,\n",
    "    7:7,\n",
    "    8:8,\n",
    "    9:9,\n",
    "    4:3,\n",
    "    5:1,\n",
    "    6:2,\n",
    "    10:6,\n",
    "    11:4,\n",
    "    12:5\n",
    "}\n",
    "inv_pathNew = {pathNew[k]:k for k in pathNew}"
   ]
  },
  {
   "cell_type": "code",
   "execution_count": 22,
   "id": "540ef48c",
   "metadata": {},
   "outputs": [
    {
     "data": {
      "image/png": "[encoded data removed]",
      "text/plain": [
       "<Figure size 432x288 with 1 Axes>"
      ]
     },
     "metadata": {},
     "output_type": "display_data"
    }
   ],
   "source": [
    "data = np.genfromtxt(\"Daten/Block 1/Block1_159.Spe\", skip_header=12, skip_footer=14)\n",
    "#plt.plot(peaks,data[peaks],\"x\")\n",
    "#plt.plot(np.arange(30,65),data[30:65],\"o\")\n",
    "peakindex = 65\n",
    "\n",
    "plt.plot(np.arange(19,48),data[19:48],\"o\",label=\"Rückstreuung\")\n",
    "plt.plot(np.arange(35,55),data[35:55],\"go\", label=\"Compton-Kante\")\n",
    "plt.plot(np.arange(55,70),data[55:70], \"ro\", label=\"Photo-Peak\")\n",
    "plt.plot(np.arange(55,70),data[55:70], \"ro\", label=\"Photo-Peak\")\n",
    "#lt.plot[]\n",
    "#plt.xlim(25,95)\n",
    "plt.grid(True)\n",
    "plt.legend()\n",
    "plt.tight_layout()\n",
    "plt.savefig(\"Daten/leerlauf.pdf\")"
   ]
  },
  {
   "cell_type": "markdown",
   "id": "db5f5478",
   "metadata": {},
   "source": [
    "# Matrix"
   ]
  },
  {
   "cell_type": "code",
   "execution_count": 23,
   "id": "23bce5c5",
   "metadata": {},
   "outputs": [
    {
     "data": {
      "image/png": "[encoded data removed]",
      "text/latex": [
       "$\\displaystyle \\left[\\begin{matrix}0 & \\sqrt{2} & 0 & \\sqrt{2} & 0 & 0 & 0 & 0 & 0\\\\0 & 0 & \\sqrt{2} & 0 & \\sqrt{2} & 0 & \\sqrt{2} & 0 & 0\\\\0 & 0 & 0 & 0 & 0 & \\sqrt{2} & 0 & \\sqrt{2} & 0\\\\1 & 1 & 1 & 0 & 0 & 0 & 0 & 0 & 0\\\\0 & 0 & 0 & 1 & 1 & 1 & 0 & 0 & 0\\\\0 & 0 & 0 & 0 & 0 & 0 & 1 & 1 & 1\\\\0 & \\sqrt{2} & 0 & 0 & 0 & \\sqrt{2} & 0 & 0 & 0\\\\\\sqrt{2} & 0 & 0 & 0 & \\sqrt{2} & 0 & 0 & 0 & \\sqrt{2}\\\\0 & 0 & 0 & \\sqrt{2} & 0 & 0 & 0 & \\sqrt{2} & 0\\\\0 & 0 & 1 & 0 & 0 & 1 & 0 & 0 & 1\\\\0 & 1 & 0 & 0 & 1 & 0 & 0 & 1 & 0\\\\1 & 0 & 0 & 1 & 0 & 0 & 1 & 0 & 0\\end{matrix}\\right]$"
      ],
      "text/plain": [
       "⎡0   √2  0   √2  0   0   0   0   0 ⎤\n",
       "⎢                                  ⎥\n",
       "⎢0   0   √2  0   √2  0   √2  0   0 ⎥\n",
       "⎢                                  ⎥\n",
       "⎢0   0   0   0   0   √2  0   √2  0 ⎥\n",
       "⎢                                  ⎥\n",
       "⎢1   1   1   0   0   0   0   0   0 ⎥\n",
       "⎢                                  ⎥\n",
       "⎢0   0   0   1   1   1   0   0   0 ⎥\n",
       "⎢                                  ⎥\n",
       "⎢0   0   0   0   0   0   1   1   1 ⎥\n",
       "⎢                                  ⎥\n",
       "⎢0   √2  0   0   0   √2  0   0   0 ⎥\n",
       "⎢                                  ⎥\n",
       "⎢√2  0   0   0   √2  0   0   0   √2⎥\n",
       "⎢                                  ⎥\n",
       "⎢0   0   0   √2  0   0   0   √2  0 ⎥\n",
       "⎢                                  ⎥\n",
       "⎢0   0   1   0   0   1   0   0   1 ⎥\n",
       "⎢                                  ⎥\n",
       "⎢0   1   0   0   1   0   0   1   0 ⎥\n",
       "⎢                                  ⎥\n",
       "⎣1   0   0   1   0   0   1   0   0 ⎦"
      ]
     },
     "execution_count": 23,
     "metadata": {},
     "output_type": "execute_result"
    }
   ],
   "source": [
    "matArr = np.array([[0, sqrt(2), 0, sqrt(2),0,0,0,0,0], \n",
    "    [0,0,sqrt(2), 0, sqrt(2), 0, sqrt(2), 0,0], \n",
    "    [0, 0,0,0,0,sqrt(2),0,sqrt(2),0],\n",
    "    [1,1,1,0,0,0,0,0,0],\n",
    "    [0,0,0,1,1,1,0,0,0],\n",
    "    [0,0,0,0,0,0,1,1,1],\n",
    "    [0,sqrt(2),0,0,0,sqrt(2),0,0,0],\n",
    "    [sqrt(2),0,0,0,sqrt(2),0,0,0,sqrt(2)],\n",
    "    [0,0,0,sqrt(2),0,0,0,sqrt(2),0],\n",
    "    [0,0,1,0,0,1,0,0,1],\n",
    "    [0,1,0,0,1,0,0,1,0],\n",
    "    [1,0,0,1,0,0,1,0,0]])\n",
    "A = Matrix(matArr)\n",
    "\n",
    "A_symbol = symbols(\"A\")\n",
    "#print(latex(Eq(S(A_symbol),A,evaluate=False)))\n",
    "A"
   ]
  },
  {
   "cell_type": "code",
   "execution_count": null,
   "id": "38f8a3bb",
   "metadata": {},
   "outputs": [],
   "source": []
  },
  {
   "cell_type": "markdown",
   "id": "506a5687",
   "metadata": {},
   "source": []
  },
  {
   "cell_type": "code",
   "execution_count": 24,
   "id": "7197d8ef",
   "metadata": {},
   "outputs": [],
   "source": [
    "mu = symbols(\"\\mu1:9\")\n"
   ]
  },
  {
   "cell_type": "markdown",
   "id": "23985d7e",
   "metadata": {},
   "source": [
    "# Block 1 Messungen"
   ]
  },
  {
   "cell_type": "code",
   "execution_count": 25,
   "id": "26e3d1cc",
   "metadata": {},
   "outputs": [
    {
     "name": "stdout",
     "output_type": "stream",
     "text": [
      "Daten/Block 1/Block1_123.Spe\n",
      "Daten/Block 1/Block1_159.Spe\n",
      "Daten/Block 1/Block1_26.Spe\n"
     ]
    }
   ],
   "source": [
    "filepath = []\n",
    "peakValue = []\n",
    "peakIndex = []\n",
    "for root, dirs, files in os.walk(\"Daten/Block 1/\"):\n",
    "    for filename in files:\n",
    "        filepath.append(os.path.join(root,filename))\n",
    "        print(os.path.join(root,filename))\n",
    "        data = np.genfromtxt(os.path.join(root,filename), skip_header=12, skip_footer=14)\n",
    "        peaks, _ = find_peaks(data, prominence=2000) \n",
    "        peakIndex.append(peaks)\n",
    "        peakValue.append(data[peaks])\n",
    "\n",
    "        "
   ]
  },
  {
   "cell_type": "code",
   "execution_count": 26,
   "metadata": {},
   "outputs": [
    {
     "data": {
      "text/html": [
       "<div>\n",
       "<style scoped>\n",
       "    .dataframe tbody tr th:only-of-type {\n",
       "        vertical-align: middle;\n",
       "    }\n",
       "\n",
       "    .dataframe tbody tr th {\n",
       "        vertical-align: top;\n",
       "    }\n",
       "\n",
       "    .dataframe thead th {\n",
       "        text-align: right;\n",
       "    }\n",
       "</style>\n",
       "<table border=\"1\" class=\"dataframe\">\n",
       "  <thead>\n",
       "    <tr style=\"text-align: right;\">\n",
       "      <th></th>\n",
       "      <th>C</th>\n",
       "      <th>Zeit</th>\n",
       "      <th>I</th>\n",
       "    </tr>\n",
       "  </thead>\n",
       "  <tbody>\n",
       "    <tr>\n",
       "      <th>0</th>\n",
       "      <td>9163</td>\n",
       "      <td>300</td>\n",
       "      <td>30.54</td>\n",
       "    </tr>\n",
       "    <tr>\n",
       "      <th>1</th>\n",
       "      <td>9359</td>\n",
       "      <td>300</td>\n",
       "      <td>31.20</td>\n",
       "    </tr>\n",
       "    <tr>\n",
       "      <th>2</th>\n",
       "      <td>9335</td>\n",
       "      <td>300</td>\n",
       "      <td>31.12</td>\n",
       "    </tr>\n",
       "  </tbody>\n",
       "</table>\n",
       "</div>"
      ],
      "text/plain": [
       "      C  Zeit      I\n",
       "0  9163   300  30.54\n",
       "1  9359   300  31.20\n",
       "2  9335   300  31.12"
      ]
     },
     "execution_count": 26,
     "metadata": {},
     "output_type": "execute_result"
    }
   ],
   "source": [
    "data = pd.DataFrame([])\n",
    "peakValue=np.array(peakValue)\n",
    "data[\"Zeit\"] = 300*np.ones(len(filepath))\n",
    "data[\"C\"] = peakValue\n",
    "\n",
    "data[\"I\"] = data[\"C\"]/data[\"Zeit\"]\n",
    "reihenfolge = [\"C\",\"Zeit\" , \"I\"]\n",
    "data = data.reindex(columns = reihenfolge)\n",
    "data.astype({\"Zeit\":int, \"C\":int}).round({\"I\":2})"
   ]
  },
  {
   "cell_type": "code",
   "execution_count": 27,
   "id": "18ead7f9",
   "metadata": {},
   "outputs": [
    {
     "name": "stdout",
     "output_type": "stream",
     "text": [
      "\\begin{tabular}{rrll}\n",
      "\\toprule\n",
      " Projektion &  Zeit &                   C &           I \\\\\n",
      "\\midrule\n",
      "          4 &   300 & (4.918+/-0.031)e+04 & 163.9+/-1.0 \\\\\n",
      "          7 &   300 & (4.860+/-0.032)e+04 & 162.0+/-1.1 \\\\\n",
      "          8 &   300 & (4.860+/-0.032)e+04 & 162.0+/-1.1 \\\\\n",
      "\\bottomrule\n",
      "\\end{tabular}\n",
      "\n"
     ]
    },
    {
     "name": "stderr",
     "output_type": "stream",
     "text": [
      "/tmp/ipykernel_703/2855026386.py:11: FutureWarning: In future versions `DataFrame.to_latex` is expected to utilise the base implementation of `Styler.to_latex` for formatting and rendering. The arguments signature may therefore change. It is recommended instead to use `DataFrame.style.to_latex` which also contains additional functionality.\n",
      "  print(df.to_latex(index=False))\n"
     ]
    }
   ],
   "source": [
    "C =  np.array([ufloat(49176,306), ufloat(48599,320), ufloat(48599,320)])\n",
    "j = np.array([inv_pathDict[k] for k in [123,26,159]])\n",
    "t = np.array([300 for i in range(3)])\n",
    "\n",
    "df = pd.DataFrame(columns=[\"Projektion\", \"Zeit\",\"C\",\"I\"])\n",
    "df[\"Projektion\"] = j \n",
    "df[\"Zeit\"] = t \n",
    "df[\"C\"] = C\n",
    "df[\"I\"] = C/t \n",
    "\n",
    "print(df.to_latex(index=False))"
   ]
  },
  {
   "cell_type": "code",
   "execution_count": 28,
   "id": "00344dd1",
   "metadata": {},
   "outputs": [],
   "source": [
    "#Gibt an für welche Projektion welches der I0 verwendet werden soll \n",
    "I0_index = {\n",
    "    1:1,\n",
    "    2:2,\n",
    "    3:1,\n",
    "    7:1,\n",
    "    8:2,\n",
    "    9:1,\n",
    "    4:0,\n",
    "    5:0,\n",
    "    6:0,\n",
    "    10:0,\n",
    "    11:0,\n",
    "    12:0\n",
    "}\n",
    "    "
   ]
  },
  {
   "cell_type": "code",
   "execution_count": 29,
   "id": "48020637",
   "metadata": {},
   "outputs": [],
   "source": [
    "C0 = unp.nominal_values(C)\n",
    "C0_err = unp.std_devs(C)\n",
    "\n",
    "I_0 = C0/t \n",
    "I_0_err = C0_err/t\n"
   ]
  },
  {
   "cell_type": "code",
   "execution_count": 30,
   "id": "3376ca7d",
   "metadata": {},
   "outputs": [
    {
     "data": {
      "text/plain": [
       "array([1.02      , 1.06666667, 1.06666667])"
      ]
     },
     "execution_count": 30,
     "metadata": {},
     "output_type": "execute_result"
    }
   ],
   "source": [
    "I_0_err\n"
   ]
  },
  {
   "cell_type": "markdown",
   "id": "f07ce7bf",
   "metadata": {},
   "source": [
    "# BLOCK 2"
   ]
  },
  {
   "cell_type": "code",
   "execution_count": 128,
   "id": "6100a8f6",
   "metadata": {},
   "outputs": [
    {
     "data": {
      "text/html": [
       "<div>\n",
       "<style scoped>\n",
       "    .dataframe tbody tr th:only-of-type {\n",
       "        vertical-align: middle;\n",
       "    }\n",
       "\n",
       "    .dataframe tbody tr th {\n",
       "        vertical-align: top;\n",
       "    }\n",
       "\n",
       "    .dataframe thead th {\n",
       "        text-align: right;\n",
       "    }\n",
       "</style>\n",
       "<table border=\"1\" class=\"dataframe\">\n",
       "  <thead>\n",
       "    <tr style=\"text-align: right;\">\n",
       "      <th></th>\n",
       "      <th>C</th>\n",
       "      <th>Zeit</th>\n",
       "      <th>I</th>\n",
       "    </tr>\n",
       "  </thead>\n",
       "  <tbody>\n",
       "    <tr>\n",
       "      <th>0</th>\n",
       "      <td>7998</td>\n",
       "      <td>300</td>\n",
       "      <td>26.66</td>\n",
       "    </tr>\n",
       "    <tr>\n",
       "      <th>1</th>\n",
       "      <td>7621</td>\n",
       "      <td>300</td>\n",
       "      <td>25.40</td>\n",
       "    </tr>\n",
       "    <tr>\n",
       "      <th>2</th>\n",
       "      <td>8012</td>\n",
       "      <td>300</td>\n",
       "      <td>26.71</td>\n",
       "    </tr>\n",
       "    <tr>\n",
       "      <th>3</th>\n",
       "      <td>7775</td>\n",
       "      <td>300</td>\n",
       "      <td>25.92</td>\n",
       "    </tr>\n",
       "    <tr>\n",
       "      <th>4</th>\n",
       "      <td>7965</td>\n",
       "      <td>300</td>\n",
       "      <td>26.55</td>\n",
       "    </tr>\n",
       "    <tr>\n",
       "      <th>5</th>\n",
       "      <td>7864</td>\n",
       "      <td>300</td>\n",
       "      <td>26.21</td>\n",
       "    </tr>\n",
       "    <tr>\n",
       "      <th>6</th>\n",
       "      <td>7989</td>\n",
       "      <td>300</td>\n",
       "      <td>26.63</td>\n",
       "    </tr>\n",
       "    <tr>\n",
       "      <th>7</th>\n",
       "      <td>8115</td>\n",
       "      <td>300</td>\n",
       "      <td>27.05</td>\n",
       "    </tr>\n",
       "    <tr>\n",
       "      <th>8</th>\n",
       "      <td>7980</td>\n",
       "      <td>300</td>\n",
       "      <td>26.60</td>\n",
       "    </tr>\n",
       "  </tbody>\n",
       "</table>\n",
       "</div>"
      ],
      "text/plain": [
       "      C  Zeit      I\n",
       "0  7998   300  26.66\n",
       "1  7621   300  25.40\n",
       "2  8012   300  26.71\n",
       "3  7775   300  25.92\n",
       "4  7965   300  26.55\n",
       "5  7864   300  26.21\n",
       "6  7989   300  26.63\n",
       "7  8115   300  27.05\n",
       "8  7980   300  26.60"
      ]
     },
     "execution_count": 128,
     "metadata": {},
     "output_type": "execute_result"
    }
   ],
   "source": [
    "filepath = []\n",
    "peakValue = []\n",
    "peakIndex = []\n",
    "for root, dirs, files in os.walk(\"Daten/Block 2/\"):\n",
    "    for filename in files:\n",
    "        filepath.append(os.path.join(root,filename))\n",
    "        data = np.genfromtxt(os.path.join(root,filename), skip_header=12, skip_footer=14)\n",
    "        peaks, _ = find_peaks(data, prominence=2000) \n",
    "        peakIndex.append(peaks)\n",
    "        peakValue.append(data[peaks])\n",
    "\n",
    "data = pd.DataFrame([])\n",
    "peakValue=np.array(peakValue)\n",
    "data[\"Zeit\"] = 300*np.ones(len(filepath))\n",
    "data[\"C\"] = peakValue\n",
    "\n",
    "data[\"I\"] = data[\"C\"]/data[\"Zeit\"]\n",
    "reihenfolge = [\"C\",\"Zeit\" , \"I\"]\n",
    "data = data.reindex(columns = reihenfolge)\n",
    "data.astype({\"Zeit\":int, \"C\":int}).round({\"I\":2})\n"
   ]
  },
  {
   "cell_type": "code",
   "execution_count": 129,
   "id": "697e91c4",
   "metadata": {},
   "outputs": [
    {
     "name": "stdout",
     "output_type": "stream",
     "text": [
      "\\begin{tabular}{rrrrl}\n",
      "\\toprule\n",
      " Projektion &  Zeit &     C &  C\\_err &           I \\\\\n",
      "\\midrule\n",
      "          4 &   300 & 41777 &    300 & 139.3+/-1.0 \\\\\n",
      "          5 &   300 & 43230 &    289 & 144.1+/-1.0 \\\\\n",
      "          6 &   300 & 41772 &    287 & 139.2+/-1.0 \\\\\n",
      "          7 &   300 & 43714 &    273 & 145.7+/-0.9 \\\\\n",
      "          8 &   300 & 42274 &    259 & 140.9+/-0.9 \\\\\n",
      "          9 &   300 & 41326 &    297 & 137.8+/-1.0 \\\\\n",
      "         12 &   300 & 41886 &    297 & 139.6+/-1.0 \\\\\n",
      "         11 &   300 & 42662 &    288 & 142.2+/-1.0 \\\\\n",
      "         10 &   300 & 44080 &    280 & 146.9+/-0.9 \\\\\n",
      "\\bottomrule\n",
      "\\end{tabular}\n",
      "\n"
     ]
    },
    {
     "name": "stderr",
     "output_type": "stream",
     "text": [
      "/tmp/ipykernel_703/1840750910.py:14: FutureWarning: In future versions `DataFrame.to_latex` is expected to utilise the base implementation of `Styler.to_latex` for formatting and rendering. The arguments signature may therefore change. It is recommended instead to use `DataFrame.style.to_latex` which also contains additional functionality.\n",
      "  print(df.to_latex(index=False))\n"
     ]
    }
   ],
   "source": [
    "C =  np.array([41777,43230,41772,43714,42274,41326,41886,42662,44080])\n",
    "C_err = np.array([300,289,287,273,259,297,297,288,280])\n",
    "uarrC = unp.uarray(C,C_err)\n",
    "j = np.array([inv_pathDict[k] for k in [123,456,789,26,159,48,147,258,369]])\n",
    "t = np.array([300 for i in range(C.size)])\n",
    "\n",
    "df = pd.DataFrame(columns=[\"Projektion\", \"Zeit\",\"C\",\"C_err\",\"I\"])\n",
    "df[\"Projektion\"] = j \n",
    "df[\"Zeit\"] = t \n",
    "df[\"C\"] = C\n",
    "df[\"C_err\"] = C_err\n",
    "df[\"I\"] = uarrC/t \n",
    "\n",
    "print(df.to_latex(index=False))"
   ]
  },
  {
   "cell_type": "markdown",
   "id": "4eb3cecc",
   "metadata": {},
   "source": [
    "berechnung von $\\mu$"
   ]
  },
  {
   "cell_type": "code",
   "execution_count": 33,
   "id": "d827c8a5",
   "metadata": {},
   "outputs": [
    {
     "data": {
      "text/plain": [
       "array([ 4,  5,  6,  7,  8,  9, 12, 11, 10])"
      ]
     },
     "execution_count": 33,
     "metadata": {},
     "output_type": "execute_result"
    }
   ],
   "source": [
    "j"
   ]
  },
  {
   "cell_type": "markdown",
   "id": "7bcce329",
   "metadata": {},
   "source": [
    "### Berechne $\\vec{\\mu}$"
   ]
  },
  {
   "cell_type": "markdown",
   "id": "71498947",
   "metadata": {},
   "source": [
    "Unsere Matrix A:"
   ]
  },
  {
   "cell_type": "code",
   "execution_count": 130,
   "id": "02ae9a2c",
   "metadata": {},
   "outputs": [],
   "source": [
    "A = Matrix(matArr[j-1])"
   ]
  },
  {
   "cell_type": "markdown",
   "id": "b270ce74",
   "metadata": {},
   "source": [
    "Vector der Zählraten:"
   ]
  },
  {
   "cell_type": "code",
   "execution_count": 131,
   "id": "ba81fbe3",
   "metadata": {},
   "outputs": [],
   "source": [
    "N_vec = Matrix(C/t)"
   ]
  },
  {
   "cell_type": "markdown",
   "id": "6e117df7",
   "metadata": {},
   "source": [
    "Gewichtungsmatrix"
   ]
  },
  {
   "cell_type": "code",
   "execution_count": 132,
   "id": "2fe772cb",
   "metadata": {},
   "outputs": [],
   "source": [
    "#Diagonalwerte der Gewichtungsmatrix\n",
    "Nj = C/t\n",
    "Nj_err = C_err/t\n",
    "w_i  =  [np.sqrt((I_0_err[I0_index[k]]/I_0[I0_index[k]])**2 + (Nj_err[i]/Nj[i])**2) for i,k in enumerate(j)]\n",
    "W = Matrix(np.diag(w_i))\n",
    "\n",
    "# W = Matrix(np.diag(Nj_err)).inv()"
   ]
  },
  {
   "cell_type": "markdown",
   "id": "ff9df95f",
   "metadata": {},
   "source": [
    "Berechne $\\vec{\\mu} = (A^T W A)^{-1} (A^T W \\vec{N})$"
   ]
  },
  {
   "cell_type": "code",
   "execution_count": 134,
   "id": "2ab695bc",
   "metadata": {},
   "outputs": [
    {
     "data": {
      "image/png": "[encoded data removed]",
      "text/latex": [
       "$\\displaystyle \\left[\\begin{matrix}-0.6012\\\\1.451\\\\0.6319\\\\1.545\\\\0.4294\\\\-0.09373\\\\0.6238\\\\0.8663\\\\0.2651\\end{matrix}\\right]$"
      ],
      "text/plain": [
       "⎡-0.6012 ⎤\n",
       "⎢        ⎥\n",
       "⎢ 1.451  ⎥\n",
       "⎢        ⎥\n",
       "⎢ 0.6319 ⎥\n",
       "⎢        ⎥\n",
       "⎢ 1.545  ⎥\n",
       "⎢        ⎥\n",
       "⎢ 0.4294 ⎥\n",
       "⎢        ⎥\n",
       "⎢-0.09373⎥\n",
       "⎢        ⎥\n",
       "⎢ 0.6238 ⎥\n",
       "⎢        ⎥\n",
       "⎢ 0.8663 ⎥\n",
       "⎢        ⎥\n",
       "⎣ 0.2651 ⎦"
      ]
     },
     "execution_count": 134,
     "metadata": {},
     "output_type": "execute_result"
    }
   ],
   "source": [
    "mu = (A.transpose()*W*A).inv()*(A.transpose()*W*N_vec)\n",
    "(mu/100).evalf(4) #Konvertiere von 1/m zu 1/cm"
   ]
  },
  {
   "cell_type": "code",
   "execution_count": 135,
   "id": "cc4c398f",
   "metadata": {},
   "outputs": [
    {
     "name": "stdout",
     "output_type": "stream",
     "text": [
      "\\begin{tabular}{r}\n",
      "\\toprule\n",
      "        0 \\\\\n",
      "\\midrule\n",
      "-0.601181 \\\\\n",
      " 1.451370 \\\\\n",
      " 0.631905 \\\\\n",
      " 1.545090 \\\\\n",
      " 0.429356 \\\\\n",
      "-0.093726 \\\\\n",
      " 0.623833 \\\\\n",
      " 0.866272 \\\\\n",
      " 0.265099 \\\\\n",
      "\\bottomrule\n",
      "\\end{tabular}\n",
      "\n"
     ]
    },
    {
     "name": "stderr",
     "output_type": "stream",
     "text": [
      "/tmp/ipykernel_703/2034900186.py:2: FutureWarning: In future versions `DataFrame.to_latex` is expected to utilise the base implementation of `Styler.to_latex` for formatting and rendering. The arguments signature may therefore change. It is recommended instead to use `DataFrame.style.to_latex` which also contains additional functionality.\n",
      "  print(df.to_latex(index=False))\n"
     ]
    }
   ],
   "source": [
    "df = pd.DataFrame(data=np.array((mu/100).evalf(4)).astype(np.float64))\n",
    "print(df.to_latex(index=False))"
   ]
  },
  {
   "cell_type": "code",
   "execution_count": null,
   "id": "43075208",
   "metadata": {},
   "outputs": [],
   "source": [
    "#I_test = np.array([np.log(I_0[I0_index[k]]/Nj[i]) for i, k in enumerate(j) ])\n",
    "#I_test = Matrix(I_test)\n",
    "\n",
    "#mu = (A.transpose()*A)*A.transpose()*I_test\n",
    "#(mu/100).evalf(4) #Konvertiere von 1/m zu 1/cm"
   ]
  },
  {
   "cell_type": "markdown",
   "id": "34433141",
   "metadata": {},
   "source": [
    "Mittelwert berechnen:"
   ]
  },
  {
   "cell_type": "code",
   "execution_count": 103,
   "id": "67359e50",
   "metadata": {},
   "outputs": [
    {
     "name": "stdout",
     "output_type": "stream",
     "text": [
      "0.57+/-0.22\n"
     ]
    }
   ],
   "source": [
    "muArr = np.array(mu/100).astype(np.float64)\n",
    "mean = np.mean(muArr)\n",
    "mean_err = np.std(muArr)/np.sqrt(len(muArr))\n",
    "mean_full = ufloat(mean,mean_err)\n",
    "print(mean_full)"
   ]
  },
  {
   "cell_type": "markdown",
   "id": "f2f7132b",
   "metadata": {},
   "source": [
    "Abweichung:"
   ]
  },
  {
   "cell_type": "code",
   "execution_count": 114,
   "id": "392e916f",
   "metadata": {},
   "outputs": [
    {
     "name": "stdout",
     "output_type": "stream",
     "text": [
      "Eisen: 0.32%\n"
     ]
    }
   ],
   "source": [
    "theo = {\n",
    "    0.2007:\"Aluminium\",\n",
    "    1.1741:\"Blei\",\n",
    "    0.5705:\"Eisen\",\n",
    "    0.5917:\"Messing\",\n",
    "    0.1167:\"Delrin\"\n",
    "}\n",
    "theo_inv = {theo[value]:value for value in theo}\n",
    "\n",
    "naechsterWert = list(theo)[np.argmin([np.abs(mean-value) for value in theo])]\n",
    "print(theo[naechsterWert]+\": \"+ str(np.around(np.abs(mean/naechsterWert-1)*100,2))+\"%\")"
   ]
  },
  {
   "cell_type": "markdown",
   "id": "71e4b168",
   "metadata": {},
   "source": [
    "# Block 3"
   ]
  },
  {
   "cell_type": "code",
   "execution_count": 115,
   "id": "946d49f3",
   "metadata": {},
   "outputs": [
    {
     "data": {
      "text/html": [
       "<div>\n",
       "<style scoped>\n",
       "    .dataframe tbody tr th:only-of-type {\n",
       "        vertical-align: middle;\n",
       "    }\n",
       "\n",
       "    .dataframe tbody tr th {\n",
       "        vertical-align: top;\n",
       "    }\n",
       "\n",
       "    .dataframe thead th {\n",
       "        text-align: right;\n",
       "    }\n",
       "</style>\n",
       "<table border=\"1\" class=\"dataframe\">\n",
       "  <thead>\n",
       "    <tr style=\"text-align: right;\">\n",
       "      <th></th>\n",
       "      <th>C</th>\n",
       "      <th>Zeit</th>\n",
       "      <th>I</th>\n",
       "    </tr>\n",
       "  </thead>\n",
       "  <tbody>\n",
       "    <tr>\n",
       "      <th>0</th>\n",
       "      <td>327</td>\n",
       "      <td>300</td>\n",
       "      <td>1.09</td>\n",
       "    </tr>\n",
       "    <tr>\n",
       "      <th>1</th>\n",
       "      <td>361</td>\n",
       "      <td>300</td>\n",
       "      <td>1.20</td>\n",
       "    </tr>\n",
       "    <tr>\n",
       "      <th>2</th>\n",
       "      <td>155</td>\n",
       "      <td>300</td>\n",
       "      <td>0.52</td>\n",
       "    </tr>\n",
       "    <tr>\n",
       "      <th>3</th>\n",
       "      <td>152</td>\n",
       "      <td>300</td>\n",
       "      <td>0.51</td>\n",
       "    </tr>\n",
       "    <tr>\n",
       "      <th>4</th>\n",
       "      <td>362</td>\n",
       "      <td>300</td>\n",
       "      <td>1.21</td>\n",
       "    </tr>\n",
       "    <tr>\n",
       "      <th>5</th>\n",
       "      <td>345</td>\n",
       "      <td>300</td>\n",
       "      <td>1.15</td>\n",
       "    </tr>\n",
       "    <tr>\n",
       "      <th>6</th>\n",
       "      <td>352</td>\n",
       "      <td>300</td>\n",
       "      <td>1.17</td>\n",
       "    </tr>\n",
       "    <tr>\n",
       "      <th>7</th>\n",
       "      <td>328</td>\n",
       "      <td>300</td>\n",
       "      <td>1.09</td>\n",
       "    </tr>\n",
       "    <tr>\n",
       "      <th>8</th>\n",
       "      <td>493</td>\n",
       "      <td>300</td>\n",
       "      <td>1.64</td>\n",
       "    </tr>\n",
       "    <tr>\n",
       "      <th>9</th>\n",
       "      <td>403</td>\n",
       "      <td>300</td>\n",
       "      <td>1.34</td>\n",
       "    </tr>\n",
       "  </tbody>\n",
       "</table>\n",
       "</div>"
      ],
      "text/plain": [
       "     C  Zeit     I\n",
       "0  327   300  1.09\n",
       "1  361   300  1.20\n",
       "2  155   300  0.52\n",
       "3  152   300  0.51\n",
       "4  362   300  1.21\n",
       "5  345   300  1.15\n",
       "6  352   300  1.17\n",
       "7  328   300  1.09\n",
       "8  493   300  1.64\n",
       "9  403   300  1.34"
      ]
     },
     "execution_count": 115,
     "metadata": {},
     "output_type": "execute_result"
    }
   ],
   "source": [
    "filepath = []\n",
    "peakValue = []\n",
    "peakIndex = []\n",
    "for root, dirs, files in os.walk(\"Daten/Block 3/\"):\n",
    "    for filename in files:\n",
    "        #print(os.path.join(root,filename))\n",
    "        filepath.append(os.path.join(root,filename))\n",
    "        data = np.genfromtxt(os.path.join(root,filename), skip_header=12, skip_footer=14)\n",
    "        peaks, _ = find_peaks(data,prominence=50)\n",
    "        peaks = peaks[1] \n",
    "        # plt.plot(peaks,data[peaks],\"x\")\n",
    "        # plt.plot(data)\n",
    "        # plt.show()\n",
    "        peakIndex.append(peaks)\n",
    "        peakValue.append(data[peaks])\n",
    "\n",
    "data = pd.DataFrame([])\n",
    "peakValue=np.array(peakValue)\n",
    "data[\"Zeit\"] = 300*np.ones(len(filepath))\n",
    "data[\"C\"] = peakValue\n",
    "\n",
    "data[\"I\"] = data[\"C\"]/data[\"Zeit\"]\n",
    "reihenfolge = [\"C\",\"Zeit\" , \"I\"]\n",
    "data = data.reindex(columns = reihenfolge)\n",
    "data.astype({\"Zeit\":int, \"C\":int}).round({\"I\":2})"
   ]
  },
  {
   "cell_type": "code",
   "execution_count": 116,
   "id": "ad6cff89",
   "metadata": {},
   "outputs": [
    {
     "name": "stdout",
     "output_type": "stream",
     "text": [
      "\\begin{tabular}{rrrrl}\n",
      "\\toprule\n",
      " Projektion &  Zeit &    C &  C\\_err &           I \\\\\n",
      "\\midrule\n",
      "          4 &   300 & 1788 &     55 & 5.96+/-0.18 \\\\\n",
      "          5 &   300 & 1751 &     56 & 5.84+/-0.19 \\\\\n",
      "          6 &   300 & 2148 &     58 & 7.16+/-0.19 \\\\\n",
      "          7 &   300 & 1928 &     60 & 6.43+/-0.20 \\\\\n",
      "          9 &   300 & 2689 &     62 & 8.96+/-0.21 \\\\\n",
      "          8 &   300 & 1358 &     72 & 4.53+/-0.24 \\\\\n",
      "         12 &   300 & 2145 &     60 & 7.15+/-0.20 \\\\\n",
      "         11 &   300 & 1829 &     60 & 6.10+/-0.20 \\\\\n",
      "         10 &   300 & 1904 &     60 & 6.35+/-0.20 \\\\\n",
      "\\bottomrule\n",
      "\\end{tabular}\n",
      "\n"
     ]
    },
    {
     "name": "stderr",
     "output_type": "stream",
     "text": [
      "/tmp/ipykernel_703/3038725187.py:14: FutureWarning: In future versions `DataFrame.to_latex` is expected to utilise the base implementation of `Styler.to_latex` for formatting and rendering. The arguments signature may therefore change. It is recommended instead to use `DataFrame.style.to_latex` which also contains additional functionality.\n",
      "  print(df.to_latex(index=False))\n"
     ]
    }
   ],
   "source": [
    "C =  np.array([1788,1751,2148,1928,2689,679*2, 2145,1829,1904])\n",
    "C_err = np.array([55,56,58,60,62,36*2,60,60,60])\n",
    "uarrC = unp.uarray(C,C_err)\n",
    "j = np.array([inv_pathDict[k] for k in [123,456,789,26,48,159,147,258,369]])\n",
    "t = np.array([300 for i in range(C.size)])\n",
    "\n",
    "df = pd.DataFrame(columns=[\"Projektion\", \"Zeit\",\"C\",\"C_err\",\"I\"])\n",
    "df[\"Projektion\"] = j \n",
    "df[\"Zeit\"] = t \n",
    "df[\"C\"] = C\n",
    "df[\"C_err\"] = C_err\n",
    "df[\"I\"] = uarrC/t \n",
    "\n",
    "print(df.to_latex(index=False))"
   ]
  },
  {
   "cell_type": "code",
   "execution_count": 122,
   "id": "c9cefb5e",
   "metadata": {},
   "outputs": [
    {
     "data": {
      "text/plain": [
       "array([ 4,  5,  6,  7,  9,  8, 12, 11, 10])"
      ]
     },
     "execution_count": 122,
     "metadata": {},
     "output_type": "execute_result"
    }
   ],
   "source": [
    "j"
   ]
  },
  {
   "cell_type": "markdown",
   "id": "c8eaec25",
   "metadata": {},
   "source": [
    "Diese Rechnungen wurden oben alle detailiert protokolliert:"
   ]
  },
  {
   "cell_type": "code",
   "execution_count": 123,
   "id": "e34ec1f1",
   "metadata": {},
   "outputs": [
    {
     "data": {
      "image/png": "[encoded data removed]",
      "text/latex": [
       "$\\displaystyle \\left[\\begin{matrix}-0.08\\\\0.1649\\\\0.02545\\\\0.09657\\\\0.005267\\\\-0.07414\\\\0.02651\\\\-0.1083\\\\0.1249\\end{matrix}\\right]$"
      ],
      "text/plain": [
       "⎡ -0.08  ⎤\n",
       "⎢        ⎥\n",
       "⎢ 0.1649 ⎥\n",
       "⎢        ⎥\n",
       "⎢0.02545 ⎥\n",
       "⎢        ⎥\n",
       "⎢0.09657 ⎥\n",
       "⎢        ⎥\n",
       "⎢0.005267⎥\n",
       "⎢        ⎥\n",
       "⎢-0.07414⎥\n",
       "⎢        ⎥\n",
       "⎢0.02651 ⎥\n",
       "⎢        ⎥\n",
       "⎢-0.1083 ⎥\n",
       "⎢        ⎥\n",
       "⎣ 0.1249 ⎦"
      ]
     },
     "execution_count": 123,
     "metadata": {},
     "output_type": "execute_result"
    }
   ],
   "source": [
    "A = Matrix(matArr[j-1])\n",
    "N_vec = Matrix(C/t)\n",
    "#Diagonalwerte der Gewichtungsmatrix\n",
    "Nj = C/t\n",
    "Nj_err = C_err/t\n",
    "w_i  =  [np.sqrt((I_0_err[I0_index[k]]/I_0[I0_index[k]])**2 + (Nj_err[i]/Nj[i])**2) for i,k in enumerate(j)]\n",
    "W = Matrix(np.diag(w_i))\n",
    "\n",
    "mu = (A.transpose()*W*A).inv()*(A.transpose()*W*N_vec)\n",
    "(mu/100).evalf(4) #Konvertiere von 1/m zu 1/cm\n"
   ]
  },
  {
   "cell_type": "code",
   "execution_count": 121,
   "id": "7698c96c",
   "metadata": {},
   "outputs": [
    {
     "name": "stdout",
     "output_type": "stream",
     "text": [
      "0.020+/-0.030\n",
      "Delrin: -82.76%\n",
      "Messing: -96.6%\n"
     ]
    }
   ],
   "source": [
    "muArr = np.array(mu/100).astype(np.float64)\n",
    "mean = np.mean(muArr)\n",
    "mean_err = np.std(muArr)/np.sqrt(len(muArr))\n",
    "mean_full = ufloat(mean,mean_err)\n",
    "print(mean_full)\n",
    "\n",
    "\n",
    "theo = {\n",
    "    0.2007:\"Aluminium\",\n",
    "    1.1741:\"Blei\",\n",
    "    0.5705:\"Eisen\",\n",
    "    0.5917:\"Messing\",\n",
    "    0.1167:\"Delrin\"\n",
    "}\n",
    "theo_inv = {theo[value]:value for value in theo}\n",
    "\n",
    "naechsterWert = list(theo)[np.argmin([np.abs(mean-value) for value in theo])]\n",
    "print(theo[naechsterWert]+\": \"+ str(np.around((mean/naechsterWert-1)*100,2))+\"%\")\n",
    "naechsterWert = theo_inv[\"Messing\"]\n",
    "print(theo[naechsterWert]+\": \"+ str(np.around((mean/naechsterWert-1)*100,2))+\"%\")"
   ]
  },
  {
   "cell_type": "markdown",
   "id": "7e6701a5",
   "metadata": {},
   "source": [
    "# Block 4"
   ]
  },
  {
   "cell_type": "code",
   "execution_count": null,
   "id": "fd0c9f36",
   "metadata": {},
   "outputs": [
    {
     "name": "stdout",
     "output_type": "stream",
     "text": [
      "\\begin{tabular}{lrrr}\n",
      "\\toprule\n",
      "{} &    C &  Zeit &     I \\\\\n",
      "\\midrule\n",
      "0 &  327 &   300 &  1.09 \\\\\n",
      "1 &  361 &   300 &  1.20 \\\\\n",
      "2 &  155 &   300 &  0.52 \\\\\n",
      "3 &  152 &   300 &  0.51 \\\\\n",
      "4 &  362 &   300 &  1.21 \\\\\n",
      "5 &  345 &   300 &  1.15 \\\\\n",
      "6 &  352 &   300 &  1.17 \\\\\n",
      "7 &  328 &   300 &  1.09 \\\\\n",
      "8 &  493 &   300 &  1.64 \\\\\n",
      "9 &  403 &   300 &  1.34 \\\\\n",
      "\\bottomrule\n",
      "\\end{tabular}\n",
      "\n"
     ]
    },
    {
     "name": "stderr",
     "output_type": "stream",
     "text": [
      "/tmp/ipykernel_777/1894960086.py:27: FutureWarning: In future versions `DataFrame.to_latex` is expected to utilise the base implementation of `Styler.to_latex` for formatting and rendering. The arguments signature may therefore change. It is recommended instead to use `DataFrame.style.to_latex` which also contains additional functionality.\n",
      "  print(neuData.to_latex())\n"
     ]
    }
   ],
   "source": [
    "filepath = []\n",
    "peakValue = []\n",
    "peakIndex = []\n",
    "for root, dirs, files in os.walk(\"Daten/Block 3/\"):\n",
    "    for filename in files:\n",
    "        #print(os.path.join(root,filename))\n",
    "        filepath.append(os.path.join(root,filename))\n",
    "        data = np.genfromtxt(os.path.join(root,filename), skip_header=12, skip_footer=14)\n",
    "        peaks, _ = find_peaks(data,prominence=50)\n",
    "        peaks = peaks[1] \n",
    "        # plt.plot(peaks,data[peaks],\"x\")\n",
    "        # plt.plot(data)\n",
    "        # plt.show()\n",
    "        peakIndex.append(peaks)\n",
    "        peakValue.append(data[peaks])\n",
    "\n",
    "data = pd.DataFrame([])\n",
    "peakValue=np.array(peakValue)\n",
    "data[\"Zeit\"] = 300*np.ones(len(filepath))\n",
    "data[\"C\"] = peakValue\n",
    "\n",
    "data[\"I\"] = data[\"C\"]/data[\"Zeit\"]\n",
    "reihenfolge = [\"C\",\"Zeit\" , \"I\"]\n",
    "data = data.reindex(columns = reihenfolge)\n",
    "neuData = data.astype({\"Zeit\":int, \"C\":int}).round({\"I\":2})\n",
    "\n",
    "print(neuData.to_latex())"
   ]
  },
  {
   "cell_type": "code",
   "execution_count": null,
   "id": "d402ccd3",
   "metadata": {},
   "outputs": [
    {
     "name": "stdout",
     "output_type": "stream",
     "text": [
      "\\begin{tabular}{rrrrl}\n",
      "\\toprule\n",
      " Projektion &  Zeit &     C &  C\\_err &            I \\\\\n",
      "\\midrule\n",
      "          4 &   300 & 14752 &    146 &   49.2+/-0.5 \\\\\n",
      "          5 &   300 & 13959 &    170 &   46.5+/-0.6 \\\\\n",
      "          6 &   300 & 13095 &    168 &   43.6+/-0.6 \\\\\n",
      "          7 &   300 &  9203 &    140 &   30.7+/-0.5 \\\\\n",
      "          8 &   300 &  8382 &    107 &   27.9+/-0.4 \\\\\n",
      "          9 &   300 & 11430 &    194 &   38.1+/-0.6 \\\\\n",
      "         12 &   300 & 41959 &    274 &  139.9+/-0.9 \\\\\n",
      "         11 &   300 &  1732 &     52 &  5.77+/-0.17 \\\\\n",
      "         10 &   300 & 40324 &    279 &  134.4+/-0.9 \\\\\n",
      "          1 &   300 &  9735 &    161 &   32.5+/-0.5 \\\\\n",
      "          2 &   300 &  8366 &    104 & 27.89+/-0.35 \\\\\n",
      "          3 &   300 & 13498 &    170 &   45.0+/-0.6 \\\\\n",
      "\\bottomrule\n",
      "\\end{tabular}\n",
      "\n"
     ]
    },
    {
     "name": "stderr",
     "output_type": "stream",
     "text": [
      "/tmp/ipykernel_1288/2116558524.py:14: FutureWarning: In future versions `DataFrame.to_latex` is expected to utilise the base implementation of `Styler.to_latex` for formatting and rendering. The arguments signature may therefore change. It is recommended instead to use `DataFrame.style.to_latex` which also contains additional functionality.\n",
      "  print(df.to_latex(index=False))\n"
     ]
    }
   ],
   "source": [
    "C =  np.array([14752,13959,13095,9203,8382,11430,41959,1732,40324,9735,8366,13498])\n",
    "C_err = np.array([146,170,168,140,107,194,274,52,279,161,104,170])\n",
    "uarrC = unp.uarray(C,C_err)\n",
    "j = np.array([inv_pathDict[k] for k in [123,456,789,26,159,48,147,258,369,24,357,68]])\n",
    "t = np.array([300 for i in range(C.size)])\n",
    "\n",
    "df = pd.DataFrame(columns=[\"Projektion\", \"Zeit\",\"C\",\"C_err\",\"I\"])\n",
    "df[\"Projektion\"] = j \n",
    "df[\"Zeit\"] = t \n",
    "df[\"C\"] = C\n",
    "df[\"C_err\"] = C_err\n",
    "df[\"I\"] = uarrC/t \n",
    "\n",
    "print(df.to_latex(index=False))"
   ]
  },
  {
   "cell_type": "code",
   "execution_count": null,
   "id": "e5e1980d",
   "metadata": {},
   "outputs": [],
   "source": []
  },
  {
   "cell_type": "code",
   "execution_count": null,
   "id": "0f172f14",
   "metadata": {},
   "outputs": [],
   "source": []
  },
  {
   "cell_type": "code",
   "execution_count": null,
   "id": "ac7d8d7b",
   "metadata": {},
   "outputs": [
    {
     "name": "stdout",
     "output_type": "stream",
     "text": [
      "A = \\left[\\begin{matrix}0 & \\sqrt{2} & 0 & \\sqrt{2} & 0 & 0 & 0 & 0 & 0\\\\0 & 0 & \\sqrt{2} & 0 & \\sqrt{2} & 0 & \\sqrt{2} & 0 & 0\\\\0 & 0 & 0 & 0 & 0 & \\sqrt{2} & 0 & \\sqrt{2} & 0\\\\1 & 1 & 1 & 0 & 0 & 0 & 0 & 0 & 0\\\\0 & 0 & 0 & 1 & 1 & 1 & 0 & 0 & 0\\\\0 & 0 & 0 & 0 & 0 & 0 & 1 & 1 & 1\\\\0 & \\sqrt{2} & 0 & 0 & 0 & \\sqrt{2} & 0 & 0 & 0\\\\\\sqrt{2} & 0 & 0 & 0 & \\sqrt{2} & 0 & 0 & 0 & \\sqrt{2}\\\\0 & 0 & 0 & \\sqrt{2} & 0 & 0 & 0 & \\sqrt{2} & 0\\\\0 & 0 & 1 & 0 & 0 & 1 & 0 & 0 & 1\\\\0 & 1 & 0 & 0 & 1 & 0 & 0 & 1 & 0\\\\1 & 0 & 0 & 1 & 0 & 0 & 1 & 0 & 0\\end{matrix}\\right]\n"
     ]
    }
   ],
   "source": [
    "A = Matrix([\n",
    "    [0, sqrt(2), 0, sqrt(2),0,0,0,0,0], \n",
    "    [0,0,sqrt(2), 0, sqrt(2), 0, sqrt(2), 0,0], \n",
    "    [0, 0,0,0,0,sqrt(2),0,sqrt(2),0],\n",
    "    [1,1,1,0,0,0,0,0,0],\n",
    "    [0,0,0,1,1,1,0,0,0],\n",
    "    [0,0,0,0,0,0,1,1,1],\n",
    "    [0,sqrt(2),0,0,0,sqrt(2),0,0,0],\n",
    "    [sqrt(2),0,0,0,sqrt(2),0,0,0,sqrt(2)],\n",
    "    [0,0,0,sqrt(2),0,0,0,sqrt(2),0],\n",
    "    [0,0,1,0,0,1,0,0,1],\n",
    "    [0,1,0,0,1,0,0,1,0],\n",
    "    [1,0,0,1,0,0,1,0,0]])\n",
    "\n",
    "A_symbol = symbols(\"A\")\n",
    "print(latex(Eq(S(A_symbol),A,evaluate=False)))"
   ]
  }
 ],
 "metadata": {
  "kernelspec": {
   "display_name": "Python 3.9.12 ('base')",
   "language": "python",
   "name": "python3"
  },
  "language_info": {
   "codemirror_mode": {
    "name": "ipython",
    "version": 3
   },
   "file_extension": ".py",
   "mimetype": "text/x-python",
   "name": "python",
   "nbconvert_exporter": "python",
   "pygments_lexer": "ipython3",
   "version": "3.9.12"
  },
  "vscode": {
   "interpreter": {
    "hash": "4ff68fc3c4f612bdd407460aa542a69bb060862b7961a1169aa6f7c96474d5a2"
   }
  }
 },
 "nbformat": 4,
 "nbformat_minor": 5
}
