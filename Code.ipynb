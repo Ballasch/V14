{
 "cells": [
  {
   "cell_type": "code",
   "execution_count": 38,
   "id": "1c1d3fe3-216b-4703-a549-49d9bbfe87e1",
   "metadata": {},
   "outputs": [],
   "source": [
    "import numpy as np\n",
    "import matplotlib.pyplot as plt\n",
    "import seaborn as sns\n",
    "import os\n",
    "from scipy.signal import find_peaks\n",
    "import pandas as pd\n",
    "sns.set()\n",
    "sns.set_theme()"
   ]
  },
  {
   "cell_type": "code",
   "execution_count": 2,
   "id": "dbc53cd4",
   "metadata": {},
   "outputs": [],
   "source": [
    "sns.set_palette(\"magma\")"
   ]
  },
  {
   "cell_type": "code",
   "execution_count": 3,
   "id": "f9671cc7",
   "metadata": {},
   "outputs": [],
   "source": []
  },
  {
   "cell_type": "code",
   "execution_count": 9,
   "id": "703cefc8",
   "metadata": {},
   "outputs": [],
   "source": [
    "\n",
    "for root, dirs, files in os.walk(\"Daten/\"):\n",
    "    for filename in files:\n",
    "        break"
   ]
  },
  {
   "cell_type": "code",
   "execution_count": 19,
   "id": "32326fc6",
   "metadata": {},
   "outputs": [],
   "source": [
    "data = np.genfromtxt(\"Daten/Block 4/Block4_26.Spe\", skip_header=12, skip_footer=14)"
   ]
  },
  {
   "cell_type": "code",
   "execution_count": 40,
   "id": "37d9f606",
   "metadata": {},
   "outputs": [
    {
     "data": {
      "text/plain": [
       "[<matplotlib.lines.Line2D at 0x7fb38db02fd0>]"
      ]
     },
     "execution_count": 40,
     "metadata": {},
     "output_type": "execute_result"
    },
    {
     "data": {
      "image/png": "[encoded data removed]",
      "text/plain": [
       "<Figure size 432x288 with 1 Axes>"
      ]
     },
     "metadata": {},
     "output_type": "display_data"
    }
   ],
   "source": [
    "peaks, _ = find_peaks(data, prominence=500) \n",
    "sns.barplot(y=data)\n",
    "plt.plot(peaks, data[peaks], \"x\",color=\"red\")"
   ]
  },
  {
   "cell_type": "code",
   "execution_count": 37,
   "id": "1d500288",
   "metadata": {},
   "outputs": [],
   "source": [
    "pathDict = {\n",
    "    1:24,\n",
    "    2:357,\n",
    "    3:68,\n",
    "    4:123, \n",
    "    5:456,\n",
    "    6:789,\n",
    "    7:26,\n",
    "    8:159,\n",
    "    9:48,\n",
    "    10:369,\n",
    "    11:258,\n",
    "    12:147\n",
    "}"
   ]
  },
  {
   "cell_type": "code",
   "execution_count": 36,
   "id": "540ef48c",
   "metadata": {},
   "outputs": [
    {
     "data": {
      "text/plain": [
       "24"
      ]
     },
     "execution_count": 36,
     "metadata": {},
     "output_type": "execute_result"
    }
   ],
   "source": [
    "pathDict[1]"
   ]
  },
  {
   "cell_type": "markdown",
   "id": "23985d7e",
   "metadata": {},
   "source": [
    "# Block 1 Messungen"
   ]
  },
  {
   "cell_type": "code",
   "execution_count": 95,
   "id": "26e3d1cc",
   "metadata": {},
   "outputs": [
    {
     "name": "stdout",
     "output_type": "stream",
     "text": [
      "Block1_123.Spe\n",
      "Block1_159.Spe\n",
      "Block1_26.Spe\n"
     ]
    }
   ],
   "source": [
    "filepath = []\n",
    "peakValue = []\n",
    "peakIndex = []\n",
    "for root, dirs, files in os.walk(\"Daten/Block 1/\"):\n",
    "    for filename in files:\n",
    "        print(filename)\n",
    "        filepath.append(os.path.join(root,filename))\n",
    "        data = np.genfromtxt(os.path.join(root,filename), skip_header=12, skip_footer=14)\n",
    "        peaks, _ = find_peaks(data, prominence=2000) \n",
    "        peakIndex.append(peaks)\n",
    "        peakValue.append(data[peaks])\n",
    "\n",
    "        "
   ]
  },
  {
   "cell_type": "code",
   "execution_count": 96,
   "metadata": {},
   "outputs": [
    {
     "data": {
      "text/html": [
       "<div>\n",
       "<style scoped>\n",
       "    .dataframe tbody tr th:only-of-type {\n",
       "        vertical-align: middle;\n",
       "    }\n",
       "\n",
       "    .dataframe tbody tr th {\n",
       "        vertical-align: top;\n",
       "    }\n",
       "\n",
       "    .dataframe thead th {\n",
       "        text-align: right;\n",
       "    }\n",
       "</style>\n",
       "<table border=\"1\" class=\"dataframe\">\n",
       "  <thead>\n",
       "    <tr style=\"text-align: right;\">\n",
       "      <th></th>\n",
       "      <th>C</th>\n",
       "      <th>Zeit</th>\n",
       "      <th>I</th>\n",
       "    </tr>\n",
       "  </thead>\n",
       "  <tbody>\n",
       "    <tr>\n",
       "      <th>0</th>\n",
       "      <td>9163</td>\n",
       "      <td>300</td>\n",
       "      <td>30.54</td>\n",
       "    </tr>\n",
       "    <tr>\n",
       "      <th>1</th>\n",
       "      <td>9359</td>\n",
       "      <td>300</td>\n",
       "      <td>31.20</td>\n",
       "    </tr>\n",
       "    <tr>\n",
       "      <th>2</th>\n",
       "      <td>9335</td>\n",
       "      <td>300</td>\n",
       "      <td>31.12</td>\n",
       "    </tr>\n",
       "  </tbody>\n",
       "</table>\n",
       "</div>"
      ],
      "text/plain": [
       "      C  Zeit      I\n",
       "0  9163   300  30.54\n",
       "1  9359   300  31.20\n",
       "2  9335   300  31.12"
      ]
     },
     "execution_count": 96,
     "metadata": {},
     "output_type": "execute_result"
    }
   ],
   "source": [
    "data = pd.DataFrame([])\n",
    "peakValue=np.array(peakValue)\n",
    "data[\"Zeit\"] = 300*np.ones(len(filepath))\n",
    "data[\"C\"] = peakValue\n",
    "\n",
    "data[\"I\"] = data[\"C\"]/data[\"Zeit\"]\n",
    "reihenfolge = [\"C\",\"Zeit\" , \"I\"]\n",
    "data = data.reindex(columns = reihenfolge)\n",
    "data.astype({\"Zeit\":int, \"C\":int}).round({\"I\":2})"
   ]
  },
  {
   "cell_type": "markdown",
   "id": "f07ce7bf",
   "metadata": {},
   "source": [
    "# BLOCK 2"
   ]
  },
  {
   "cell_type": "code",
   "execution_count": 94,
   "id": "6100a8f6",
   "metadata": {},
   "outputs": [
    {
     "data": {
      "text/html": [
       "<div>\n",
       "<style scoped>\n",
       "    .dataframe tbody tr th:only-of-type {\n",
       "        vertical-align: middle;\n",
       "    }\n",
       "\n",
       "    .dataframe tbody tr th {\n",
       "        vertical-align: top;\n",
       "    }\n",
       "\n",
       "    .dataframe thead th {\n",
       "        text-align: right;\n",
       "    }\n",
       "</style>\n",
       "<table border=\"1\" class=\"dataframe\">\n",
       "  <thead>\n",
       "    <tr style=\"text-align: right;\">\n",
       "      <th></th>\n",
       "      <th>C</th>\n",
       "      <th>Zeit</th>\n",
       "      <th>I</th>\n",
       "    </tr>\n",
       "  </thead>\n",
       "  <tbody>\n",
       "    <tr>\n",
       "      <th>0</th>\n",
       "      <td>7998</td>\n",
       "      <td>300</td>\n",
       "      <td>26.66</td>\n",
       "    </tr>\n",
       "    <tr>\n",
       "      <th>1</th>\n",
       "      <td>7621</td>\n",
       "      <td>300</td>\n",
       "      <td>25.40</td>\n",
       "    </tr>\n",
       "    <tr>\n",
       "      <th>2</th>\n",
       "      <td>8012</td>\n",
       "      <td>300</td>\n",
       "      <td>26.71</td>\n",
       "    </tr>\n",
       "    <tr>\n",
       "      <th>3</th>\n",
       "      <td>7775</td>\n",
       "      <td>300</td>\n",
       "      <td>25.92</td>\n",
       "    </tr>\n",
       "    <tr>\n",
       "      <th>4</th>\n",
       "      <td>7965</td>\n",
       "      <td>300</td>\n",
       "      <td>26.55</td>\n",
       "    </tr>\n",
       "    <tr>\n",
       "      <th>5</th>\n",
       "      <td>7864</td>\n",
       "      <td>300</td>\n",
       "      <td>26.21</td>\n",
       "    </tr>\n",
       "    <tr>\n",
       "      <th>6</th>\n",
       "      <td>7989</td>\n",
       "      <td>300</td>\n",
       "      <td>26.63</td>\n",
       "    </tr>\n",
       "    <tr>\n",
       "      <th>7</th>\n",
       "      <td>8115</td>\n",
       "      <td>300</td>\n",
       "      <td>27.05</td>\n",
       "    </tr>\n",
       "    <tr>\n",
       "      <th>8</th>\n",
       "      <td>7980</td>\n",
       "      <td>300</td>\n",
       "      <td>26.60</td>\n",
       "    </tr>\n",
       "  </tbody>\n",
       "</table>\n",
       "</div>"
      ],
      "text/plain": [
       "      C  Zeit      I\n",
       "0  7998   300  26.66\n",
       "1  7621   300  25.40\n",
       "2  8012   300  26.71\n",
       "3  7775   300  25.92\n",
       "4  7965   300  26.55\n",
       "5  7864   300  26.21\n",
       "6  7989   300  26.63\n",
       "7  8115   300  27.05\n",
       "8  7980   300  26.60"
      ]
     },
     "execution_count": 94,
     "metadata": {},
     "output_type": "execute_result"
    }
   ],
   "source": [
    "filepath = []\n",
    "peakValue = []\n",
    "peakIndex = []\n",
    "for root, dirs, files in os.walk(\"Daten/Block 2/\"):\n",
    "    for filename in files:\n",
    "        filepath.append(os.path.join(root,filename))\n",
    "        data = np.genfromtxt(os.path.join(root,filename), skip_header=12, skip_footer=14)\n",
    "        peaks, _ = find_peaks(data, prominence=2000) \n",
    "        peakIndex.append(peaks)\n",
    "        peakValue.append(data[peaks])\n",
    "\n",
    "data = pd.DataFrame([])\n",
    "peakValue=np.array(peakValue)\n",
    "data[\"Zeit\"] = 300*np.ones(len(filepath))\n",
    "data[\"C\"] = peakValue\n",
    "\n",
    "data[\"I\"] = data[\"C\"]/data[\"Zeit\"]\n",
    "reihenfolge = [\"C\",\"Zeit\" , \"I\"]\n",
    "data = data.reindex(columns = reihenfolge)\n",
    "data.astype({\"Zeit\":int, \"C\":int}).round({\"I\":2})\n"
   ]
  },
  {
   "cell_type": "markdown",
   "id": "71e4b168",
   "metadata": {},
   "source": [
    "# Block 3"
   ]
  },
  {
   "cell_type": "code",
   "execution_count": 115,
   "id": "946d49f3",
   "metadata": {},
   "outputs": [
    {
     "data": {
      "text/html": [
       "<div>\n",
       "<style scoped>\n",
       "    .dataframe tbody tr th:only-of-type {\n",
       "        vertical-align: middle;\n",
       "    }\n",
       "\n",
       "    .dataframe tbody tr th {\n",
       "        vertical-align: top;\n",
       "    }\n",
       "\n",
       "    .dataframe thead th {\n",
       "        text-align: right;\n",
       "    }\n",
       "</style>\n",
       "<table border=\"1\" class=\"dataframe\">\n",
       "  <thead>\n",
       "    <tr style=\"text-align: right;\">\n",
       "      <th></th>\n",
       "      <th>C</th>\n",
       "      <th>Zeit</th>\n",
       "      <th>I</th>\n",
       "    </tr>\n",
       "  </thead>\n",
       "  <tbody>\n",
       "    <tr>\n",
       "      <th>0</th>\n",
       "      <td>327</td>\n",
       "      <td>300</td>\n",
       "      <td>1.09</td>\n",
       "    </tr>\n",
       "    <tr>\n",
       "      <th>1</th>\n",
       "      <td>361</td>\n",
       "      <td>300</td>\n",
       "      <td>1.20</td>\n",
       "    </tr>\n",
       "    <tr>\n",
       "      <th>2</th>\n",
       "      <td>155</td>\n",
       "      <td>300</td>\n",
       "      <td>0.52</td>\n",
       "    </tr>\n",
       "    <tr>\n",
       "      <th>3</th>\n",
       "      <td>152</td>\n",
       "      <td>300</td>\n",
       "      <td>0.51</td>\n",
       "    </tr>\n",
       "    <tr>\n",
       "      <th>4</th>\n",
       "      <td>362</td>\n",
       "      <td>300</td>\n",
       "      <td>1.21</td>\n",
       "    </tr>\n",
       "    <tr>\n",
       "      <th>5</th>\n",
       "      <td>345</td>\n",
       "      <td>300</td>\n",
       "      <td>1.15</td>\n",
       "    </tr>\n",
       "    <tr>\n",
       "      <th>6</th>\n",
       "      <td>352</td>\n",
       "      <td>300</td>\n",
       "      <td>1.17</td>\n",
       "    </tr>\n",
       "    <tr>\n",
       "      <th>7</th>\n",
       "      <td>328</td>\n",
       "      <td>300</td>\n",
       "      <td>1.09</td>\n",
       "    </tr>\n",
       "    <tr>\n",
       "      <th>8</th>\n",
       "      <td>493</td>\n",
       "      <td>300</td>\n",
       "      <td>1.64</td>\n",
       "    </tr>\n",
       "    <tr>\n",
       "      <th>9</th>\n",
       "      <td>403</td>\n",
       "      <td>300</td>\n",
       "      <td>1.34</td>\n",
       "    </tr>\n",
       "  </tbody>\n",
       "</table>\n",
       "</div>"
      ],
      "text/plain": [
       "     C  Zeit     I\n",
       "0  327   300  1.09\n",
       "1  361   300  1.20\n",
       "2  155   300  0.52\n",
       "3  152   300  0.51\n",
       "4  362   300  1.21\n",
       "5  345   300  1.15\n",
       "6  352   300  1.17\n",
       "7  328   300  1.09\n",
       "8  493   300  1.64\n",
       "9  403   300  1.34"
      ]
     },
     "execution_count": 115,
     "metadata": {},
     "output_type": "execute_result"
    }
   ],
   "source": [
    "filepath = []\n",
    "peakValue = []\n",
    "peakIndex = []\n",
    "for root, dirs, files in os.walk(\"Daten/Block 3/\"):\n",
    "    for filename in files:\n",
    "        #print(os.path.join(root,filename))\n",
    "        filepath.append(os.path.join(root,filename))\n",
    "        data = np.genfromtxt(os.path.join(root,filename), skip_header=12, skip_footer=14)\n",
    "        peaks, _ = find_peaks(data,prominence=50)\n",
    "        peaks = peaks[1] \n",
    "        # plt.plot(peaks,data[peaks],\"x\")\n",
    "        # plt.plot(data)\n",
    "        # plt.show()\n",
    "        peakIndex.append(peaks)\n",
    "        peakValue.append(data[peaks])\n",
    "\n",
    "data = pd.DataFrame([])\n",
    "peakValue=np.array(peakValue)\n",
    "data[\"Zeit\"] = 300*np.ones(len(filepath))\n",
    "data[\"C\"] = peakValue\n",
    "\n",
    "data[\"I\"] = data[\"C\"]/data[\"Zeit\"]\n",
    "reihenfolge = [\"C\",\"Zeit\" , \"I\"]\n",
    "data = data.reindex(columns = reihenfolge)\n",
    "data.astype({\"Zeit\":int, \"C\":int}).round({\"I\":2})"
   ]
  },
  {
   "cell_type": "markdown",
   "id": "7e6701a5",
   "metadata": {},
   "source": [
    "# Block 4"
   ]
  },
  {
   "cell_type": "code",
   "execution_count": 119,
   "id": "fd0c9f36",
   "metadata": {},
   "outputs": [
    {
     "name": "stdout",
     "output_type": "stream",
     "text": [
      "\\begin{tabular}{lrrr}\n",
      "\\toprule\n",
      "{} &    C &  Zeit &     I \\\\\n",
      "\\midrule\n",
      "0 &  327 &   300 &  1.09 \\\\\n",
      "1 &  361 &   300 &  1.20 \\\\\n",
      "2 &  155 &   300 &  0.52 \\\\\n",
      "3 &  152 &   300 &  0.51 \\\\\n",
      "4 &  362 &   300 &  1.21 \\\\\n",
      "5 &  345 &   300 &  1.15 \\\\\n",
      "6 &  352 &   300 &  1.17 \\\\\n",
      "7 &  328 &   300 &  1.09 \\\\\n",
      "8 &  493 &   300 &  1.64 \\\\\n",
      "9 &  403 &   300 &  1.34 \\\\\n",
      "\\bottomrule\n",
      "\\end{tabular}\n",
      "\n"
     ]
    },
    {
     "name": "stderr",
     "output_type": "stream",
     "text": [
      "/tmp/ipykernel_777/1894960086.py:27: FutureWarning: In future versions `DataFrame.to_latex` is expected to utilise the base implementation of `Styler.to_latex` for formatting and rendering. The arguments signature may therefore change. It is recommended instead to use `DataFrame.style.to_latex` which also contains additional functionality.\n",
      "  print(neuData.to_latex())\n"
     ]
    }
   ],
   "source": [
    "filepath = []\n",
    "peakValue = []\n",
    "peakIndex = []\n",
    "for root, dirs, files in os.walk(\"Daten/Block 3/\"):\n",
    "    for filename in files:\n",
    "        #print(os.path.join(root,filename))\n",
    "        filepath.append(os.path.join(root,filename))\n",
    "        data = np.genfromtxt(os.path.join(root,filename), skip_header=12, skip_footer=14)\n",
    "        peaks, _ = find_peaks(data,prominence=50)\n",
    "        peaks = peaks[1] \n",
    "        # plt.plot(peaks,data[peaks],\"x\")\n",
    "        # plt.plot(data)\n",
    "        # plt.show()\n",
    "        peakIndex.append(peaks)\n",
    "        peakValue.append(data[peaks])\n",
    "\n",
    "data = pd.DataFrame([])\n",
    "peakValue=np.array(peakValue)\n",
    "data[\"Zeit\"] = 300*np.ones(len(filepath))\n",
    "data[\"C\"] = peakValue\n",
    "\n",
    "data[\"I\"] = data[\"C\"]/data[\"Zeit\"]\n",
    "reihenfolge = [\"C\",\"Zeit\" , \"I\"]\n",
    "data = data.reindex(columns = reihenfolge)\n",
    "neuData = data.astype({\"Zeit\":int, \"C\":int}).round({\"I\":2})\n",
    "\n",
    "print(neuData.to_latex())"
   ]
  },
  {
   "cell_type": "code",
   "execution_count": null,
   "id": "826fccaa",
   "metadata": {},
   "outputs": [],
   "source": []
  },
  {
   "cell_type": "code",
   "execution_count": 50,
   "id": "9908db7e",
   "metadata": {},
   "outputs": [
    {
     "data": {
      "text/plain": [
       "[<matplotlib.lines.Line2D at 0x7fb38d8776a0>]"
      ]
     },
     "execution_count": 50,
     "metadata": {},
     "output_type": "execute_result"
    },
    {
     "data": {
      "image/png": "[encoded data removed]",
      "text/plain": [
       "<Figure size 432x288 with 1 Axes>"
      ]
     },
     "metadata": {},
     "output_type": "display_data"
    }
   ],
   "source": [
    "\n",
    "#data = pd.DataFrame(data=data)"
   ]
  },
  {
   "cell_type": "code",
   "execution_count": null,
   "id": "60f2dbd7",
   "metadata": {},
   "outputs": [],
   "source": []
  },
  {
   "cell_type": "code",
   "execution_count": 45,
   "id": "f604d371",
   "metadata": {},
   "outputs": [
    {
     "data": {
      "text/plain": [
       "[<matplotlib.lines.Line2D at 0x7fb38da17490>]"
      ]
     },
     "execution_count": 45,
     "metadata": {},
     "output_type": "execute_result"
    },
    {
     "data": {
      "image/png": "[encoded data removed]",
      "text/plain": [
       "<Figure size 432x288 with 1 Axes>"
      ]
     },
     "metadata": {},
     "output_type": "display_data"
    }
   ],
   "source": []
  }
 ],
 "metadata": {
  "kernelspec": {
   "display_name": "Python 3.9.12 ('base')",
   "language": "python",
   "name": "python3"
  },
  "language_info": {
   "codemirror_mode": {
    "name": "ipython",
    "version": 3
   },
   "file_extension": ".py",
   "mimetype": "text/x-python",
   "name": "python",
   "nbconvert_exporter": "python",
   "pygments_lexer": "ipython3",
   "version": "3.9.12"
  },
  "vscode": {
   "interpreter": {
    "hash": "4ff68fc3c4f612bdd407460aa542a69bb060862b7961a1169aa6f7c96474d5a2"
   }
  }
 },
 "nbformat": 4,
 "nbformat_minor": 5
}
