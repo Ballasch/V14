{
 "cells": [
  {
   "cell_type": "code",
   "execution_count": 347,
   "id": "1c1d3fe3-216b-4703-a549-49d9bbfe87e1",
   "metadata": {},
   "outputs": [],
   "source": [
    "import numpy as np\n",
    "import matplotlib.pyplot as plt\n",
    "import seaborn as sns\n",
    "import os\n",
    "from scipy.signal import find_peaks\n",
    "import pandas as pd\n",
    "from uncertainties import ufloat\n",
    "import uncertainties.unumpy as unp\n",
    "from IPython.display import Math, Latex\n",
    "sns.set()\n",
    "sns.set_theme()\n",
    "sns.set_palette(\"magma\")\n",
    "\n",
    "from sympy import * \n",
    "init_printing(use_unicode=True)"
   ]
  },
  {
   "cell_type": "code",
   "execution_count": 348,
   "id": "703cefc8",
   "metadata": {},
   "outputs": [],
   "source": [
    "\n",
    "for root, dirs, files in os.walk(\"Daten/\"):\n",
    "    for filename in files:\n",
    "        break"
   ]
  },
  {
   "cell_type": "code",
   "execution_count": 349,
   "id": "1d500288",
   "metadata": {},
   "outputs": [],
   "source": [
    "pathDict = {\n",
    "    1:24,\n",
    "    2:357,\n",
    "    3:68,\n",
    "    4:123, \n",
    "    5:456,\n",
    "    6:789,\n",
    "    7:26,\n",
    "    8:159,\n",
    "    9:48,\n",
    "    10:369,\n",
    "    11:258,\n",
    "    12:147\n",
    "}\n",
    "inv_pathDict = {pathDict[k]:k for k in pathDict}"
   ]
  },
  {
   "cell_type": "code",
   "execution_count": 350,
   "id": "04097a0e",
   "metadata": {},
   "outputs": [],
   "source": [
    "# Für Vergleiche mit einem Altprotokoll\n",
    "pathNew = { \n",
    "    1:10,\n",
    "    2:11,\n",
    "    3:12,\n",
    "    7:7,\n",
    "    8:8,\n",
    "    9:9,\n",
    "    4:3,\n",
    "    5:1,\n",
    "    6:2,\n",
    "    10:6,\n",
    "    11:4,\n",
    "    12:5\n",
    "}\n",
    "inv_pathNew = {pathNew[k]:k for k in pathNew}"
   ]
  },
  {
   "cell_type": "code",
   "execution_count": 436,
   "id": "540ef48c",
   "metadata": {},
   "outputs": [
    {
     "data": {
      "image/png": "[encoded data removed]",
      "text/plain": [
       "<Figure size 432x288 with 1 Axes>"
      ]
     },
     "metadata": {},
     "output_type": "display_data"
    }
   ],
   "source": [
    "data = np.genfromtxt(\"Daten/Block 1/Block1_159.Spe\", skip_header=12, skip_footer=14)\n",
    "#plt.plot(peaks,data[peaks],\"x\")\n",
    "#plt.plot(np.arange(30,65),data[30:65],\"o\")\n",
    "peakindex = 65\n",
    "\n",
    "plt.plot(np.arange(19,55),data[19:55],\"o\")\n",
    "#plt.plot(np.arange(20,45),data[20:45],\"go\", label=\"Compton-Kontinuum\")\n",
    "plt.plot(28,data[28],\"ko\",label=\"Rückstreu-Peak\")\n",
    "plt.plot(np.arange(55,70),data[55:70], \"ro\", label=\"Photo-Peak\")\n",
    "#plt.plot(np.arange(55,70),data[55:70], \"ro\", label=\"Photo-Peak\")\n",
    "#lt.plot[]\n",
    "#plt.xlim(25,95)\n",
    "plt.grid(True)\n",
    "plt.legend()\n",
    "plt.tight_layout()\n",
    "plt.savefig(\"Daten/leerlauf.pdf\")"
   ]
  },
  {
   "cell_type": "markdown",
   "id": "db5f5478",
   "metadata": {},
   "source": [
    "# Matrix"
   ]
  },
  {
   "cell_type": "code",
   "execution_count": 352,
   "id": "23bce5c5",
   "metadata": {},
   "outputs": [
    {
     "data": {
      "image/png": "[encoded data removed]",
      "text/latex": [
       "$\\displaystyle \\left[\\begin{matrix}0 & \\sqrt{2} & 0 & \\sqrt{2} & 0 & 0 & 0 & 0 & 0\\\\0 & 0 & \\sqrt{2} & 0 & \\sqrt{2} & 0 & \\sqrt{2} & 0 & 0\\\\0 & 0 & 0 & 0 & 0 & \\sqrt{2} & 0 & \\sqrt{2} & 0\\\\1 & 1 & 1 & 0 & 0 & 0 & 0 & 0 & 0\\\\0 & 0 & 0 & 1 & 1 & 1 & 0 & 0 & 0\\\\0 & 0 & 0 & 0 & 0 & 0 & 1 & 1 & 1\\\\0 & \\sqrt{2} & 0 & 0 & 0 & \\sqrt{2} & 0 & 0 & 0\\\\\\sqrt{2} & 0 & 0 & 0 & \\sqrt{2} & 0 & 0 & 0 & \\sqrt{2}\\\\0 & 0 & 0 & \\sqrt{2} & 0 & 0 & 0 & \\sqrt{2} & 0\\\\0 & 0 & 1 & 0 & 0 & 1 & 0 & 0 & 1\\\\0 & 1 & 0 & 0 & 1 & 0 & 0 & 1 & 0\\\\1 & 0 & 0 & 1 & 0 & 0 & 1 & 0 & 0\\end{matrix}\\right]$"
      ],
      "text/plain": [
       "⎡0   √2  0   √2  0   0   0   0   0 ⎤\n",
       "⎢                                  ⎥\n",
       "⎢0   0   √2  0   √2  0   √2  0   0 ⎥\n",
       "⎢                                  ⎥\n",
       "⎢0   0   0   0   0   √2  0   √2  0 ⎥\n",
       "⎢                                  ⎥\n",
       "⎢1   1   1   0   0   0   0   0   0 ⎥\n",
       "⎢                                  ⎥\n",
       "⎢0   0   0   1   1   1   0   0   0 ⎥\n",
       "⎢                                  ⎥\n",
       "⎢0   0   0   0   0   0   1   1   1 ⎥\n",
       "⎢                                  ⎥\n",
       "⎢0   √2  0   0   0   √2  0   0   0 ⎥\n",
       "⎢                                  ⎥\n",
       "⎢√2  0   0   0   √2  0   0   0   √2⎥\n",
       "⎢                                  ⎥\n",
       "⎢0   0   0   √2  0   0   0   √2  0 ⎥\n",
       "⎢                                  ⎥\n",
       "⎢0   0   1   0   0   1   0   0   1 ⎥\n",
       "⎢                                  ⎥\n",
       "⎢0   1   0   0   1   0   0   1   0 ⎥\n",
       "⎢                                  ⎥\n",
       "⎣1   0   0   1   0   0   1   0   0 ⎦"
      ]
     },
     "execution_count": 352,
     "metadata": {},
     "output_type": "execute_result"
    }
   ],
   "source": [
    "matArr = np.array([[0, sqrt(2), 0, sqrt(2),0,0,0,0,0], \n",
    "    [0,0,sqrt(2), 0, sqrt(2), 0, sqrt(2), 0,0], \n",
    "    [0, 0,0,0,0,sqrt(2),0,sqrt(2),0],\n",
    "    [1,1,1,0,0,0,0,0,0],\n",
    "    [0,0,0,1,1,1,0,0,0],\n",
    "    [0,0,0,0,0,0,1,1,1],\n",
    "    [0,sqrt(2),0,0,0,sqrt(2),0,0,0],\n",
    "    [sqrt(2),0,0,0,sqrt(2),0,0,0,sqrt(2)],\n",
    "    [0,0,0,sqrt(2),0,0,0,sqrt(2),0],\n",
    "    [0,0,1,0,0,1,0,0,1],\n",
    "    [0,1,0,0,1,0,0,1,0],\n",
    "    [1,0,0,1,0,0,1,0,0]])\n",
    "A = Matrix(matArr)\n",
    "\n",
    "A_symbol = symbols(\"A\")\n",
    "#print(latex(Eq(S(A_symbol),A,evaluate=False)))\n",
    "A"
   ]
  },
  {
   "cell_type": "code",
   "execution_count": null,
   "id": "38f8a3bb",
   "metadata": {},
   "outputs": [],
   "source": []
  },
  {
   "cell_type": "markdown",
   "id": "506a5687",
   "metadata": {},
   "source": []
  },
  {
   "cell_type": "code",
   "execution_count": 353,
   "id": "7197d8ef",
   "metadata": {},
   "outputs": [],
   "source": [
    "mu = symbols(\"\\mu1:9\")\n"
   ]
  },
  {
   "cell_type": "markdown",
   "id": "23985d7e",
   "metadata": {},
   "source": [
    "# Block 1 Messungen"
   ]
  },
  {
   "cell_type": "code",
   "execution_count": 354,
   "id": "26e3d1cc",
   "metadata": {},
   "outputs": [
    {
     "name": "stdout",
     "output_type": "stream",
     "text": [
      "Daten/Block 1/Block1_123.Spe\n",
      "Daten/Block 1/Block1_159.Spe\n",
      "Daten/Block 1/Block1_26.Spe\n"
     ]
    }
   ],
   "source": [
    "filepath = []\n",
    "peakValue = []\n",
    "peakIndex = []\n",
    "for root, dirs, files in os.walk(\"Daten/Block 1/\"):\n",
    "    for filename in files:\n",
    "        filepath.append(os.path.join(root,filename))\n",
    "        print(os.path.join(root,filename))\n",
    "        data = np.genfromtxt(os.path.join(root,filename), skip_header=12, skip_footer=14)\n",
    "        peaks, _ = find_peaks(data, prominence=2000) \n",
    "        peakIndex.append(peaks)\n",
    "        peakValue.append(data[peaks])\n",
    "\n",
    "        "
   ]
  },
  {
   "cell_type": "code",
   "execution_count": 355,
   "metadata": {},
   "outputs": [
    {
     "data": {
      "text/html": [
       "<div>\n",
       "<style scoped>\n",
       "    .dataframe tbody tr th:only-of-type {\n",
       "        vertical-align: middle;\n",
       "    }\n",
       "\n",
       "    .dataframe tbody tr th {\n",
       "        vertical-align: top;\n",
       "    }\n",
       "\n",
       "    .dataframe thead th {\n",
       "        text-align: right;\n",
       "    }\n",
       "</style>\n",
       "<table border=\"1\" class=\"dataframe\">\n",
       "  <thead>\n",
       "    <tr style=\"text-align: right;\">\n",
       "      <th></th>\n",
       "      <th>C</th>\n",
       "      <th>Zeit</th>\n",
       "      <th>I</th>\n",
       "    </tr>\n",
       "  </thead>\n",
       "  <tbody>\n",
       "    <tr>\n",
       "      <th>0</th>\n",
       "      <td>9163</td>\n",
       "      <td>300</td>\n",
       "      <td>30.54</td>\n",
       "    </tr>\n",
       "    <tr>\n",
       "      <th>1</th>\n",
       "      <td>9359</td>\n",
       "      <td>300</td>\n",
       "      <td>31.20</td>\n",
       "    </tr>\n",
       "    <tr>\n",
       "      <th>2</th>\n",
       "      <td>9335</td>\n",
       "      <td>300</td>\n",
       "      <td>31.12</td>\n",
       "    </tr>\n",
       "  </tbody>\n",
       "</table>\n",
       "</div>"
      ],
      "text/plain": [
       "      C  Zeit      I\n",
       "0  9163   300  30.54\n",
       "1  9359   300  31.20\n",
       "2  9335   300  31.12"
      ]
     },
     "execution_count": 355,
     "metadata": {},
     "output_type": "execute_result"
    }
   ],
   "source": [
    "data = pd.DataFrame([])\n",
    "peakValue=np.array(peakValue)\n",
    "data[\"Zeit\"] = 300*np.ones(len(filepath))\n",
    "data[\"C\"] = peakValue\n",
    "\n",
    "data[\"I\"] = data[\"C\"]/data[\"Zeit\"]\n",
    "reihenfolge = [\"C\",\"Zeit\" , \"I\"]\n",
    "data = data.reindex(columns = reihenfolge)\n",
    "data.astype({\"Zeit\":int, \"C\":int}).round({\"I\":2})"
   ]
  },
  {
   "cell_type": "code",
   "execution_count": 356,
   "id": "18ead7f9",
   "metadata": {},
   "outputs": [
    {
     "name": "stdout",
     "output_type": "stream",
     "text": [
      "\\begin{tabular}{rrll}\n",
      "\\toprule\n",
      " Projektion &  Zeit &                   C &           I \\\\\n",
      "\\midrule\n",
      "          4 &   300 & (4.918+/-0.031)e+04 & 163.9+/-1.0 \\\\\n",
      "          7 &   300 & (4.860+/-0.032)e+04 & 162.0+/-1.1 \\\\\n",
      "          8 &   300 & (4.860+/-0.032)e+04 & 162.0+/-1.1 \\\\\n",
      "\\bottomrule\n",
      "\\end{tabular}\n",
      "\n"
     ]
    },
    {
     "name": "stderr",
     "output_type": "stream",
     "text": [
      "/tmp/ipykernel_2643/2855026386.py:11: FutureWarning: In future versions `DataFrame.to_latex` is expected to utilise the base implementation of `Styler.to_latex` for formatting and rendering. The arguments signature may therefore change. It is recommended instead to use `DataFrame.style.to_latex` which also contains additional functionality.\n",
      "  print(df.to_latex(index=False))\n"
     ]
    }
   ],
   "source": [
    "C =  np.array([ufloat(49176,306), ufloat(48599,320), ufloat(48599,320)])\n",
    "j = np.array([inv_pathDict[k] for k in [123,26,159]])\n",
    "t = np.array([300 for i in range(3)])\n",
    "\n",
    "df = pd.DataFrame(columns=[\"Projektion\", \"Zeit\",\"C\",\"I\"])\n",
    "df[\"Projektion\"] = j \n",
    "df[\"Zeit\"] = t \n",
    "df[\"C\"] = C\n",
    "df[\"I\"] = C/t \n",
    "\n",
    "print(df.to_latex(index=False))"
   ]
  },
  {
   "cell_type": "code",
   "execution_count": 357,
   "id": "00344dd1",
   "metadata": {},
   "outputs": [],
   "source": [
    "#Gibt an für welche Projektion welches der I0 verwendet werden soll \n",
    "I0_index = {\n",
    "    1:1,\n",
    "    2:2,\n",
    "    3:1,\n",
    "    7:1,\n",
    "    8:2,\n",
    "    9:1,\n",
    "    4:0,\n",
    "    5:0,\n",
    "    6:0,\n",
    "    10:0,\n",
    "    11:0,\n",
    "    12:0\n",
    "}\n",
    "    "
   ]
  },
  {
   "cell_type": "code",
   "execution_count": 358,
   "id": "48020637",
   "metadata": {},
   "outputs": [],
   "source": [
    "C0 = unp.nominal_values(C)\n",
    "C0_err = unp.std_devs(C)\n",
    "\n",
    "I_0 = C0/t \n",
    "I_0_err = C0_err/t\n"
   ]
  },
  {
   "cell_type": "code",
   "execution_count": 359,
   "id": "3376ca7d",
   "metadata": {},
   "outputs": [
    {
     "data": {
      "text/plain": [
       "162.63777777777776+/-0.6069921796636588"
      ]
     },
     "execution_count": 359,
     "metadata": {},
     "output_type": "execute_result"
    }
   ],
   "source": [
    "I_0_mean = sum(unp.uarray(I_0,I_0_err))/len(unp.uarray(I_0,I_0_err))\n",
    "I_0_mean\n"
   ]
  },
  {
   "cell_type": "code",
   "execution_count": 360,
   "id": "fa7763c0",
   "metadata": {},
   "outputs": [],
   "source": [
    "#Zur vereinfachung wird I_0\n",
    "I_0_12 = np.array([I_0[I0_index[k+1]] for k in range(12)])\n",
    "I_0_12_err = np.array([I_0_err[I0_index[k+1]] for k in range(12)])"
   ]
  },
  {
   "cell_type": "markdown",
   "id": "f07ce7bf",
   "metadata": {},
   "source": [
    "# BLOCK 2"
   ]
  },
  {
   "cell_type": "code",
   "execution_count": 361,
   "id": "6100a8f6",
   "metadata": {},
   "outputs": [
    {
     "data": {
      "text/html": [
       "<div>\n",
       "<style scoped>\n",
       "    .dataframe tbody tr th:only-of-type {\n",
       "        vertical-align: middle;\n",
       "    }\n",
       "\n",
       "    .dataframe tbody tr th {\n",
       "        vertical-align: top;\n",
       "    }\n",
       "\n",
       "    .dataframe thead th {\n",
       "        text-align: right;\n",
       "    }\n",
       "</style>\n",
       "<table border=\"1\" class=\"dataframe\">\n",
       "  <thead>\n",
       "    <tr style=\"text-align: right;\">\n",
       "      <th></th>\n",
       "      <th>C</th>\n",
       "      <th>Zeit</th>\n",
       "      <th>I</th>\n",
       "    </tr>\n",
       "  </thead>\n",
       "  <tbody>\n",
       "    <tr>\n",
       "      <th>0</th>\n",
       "      <td>7998</td>\n",
       "      <td>300</td>\n",
       "      <td>26.66</td>\n",
       "    </tr>\n",
       "    <tr>\n",
       "      <th>1</th>\n",
       "      <td>7621</td>\n",
       "      <td>300</td>\n",
       "      <td>25.40</td>\n",
       "    </tr>\n",
       "    <tr>\n",
       "      <th>2</th>\n",
       "      <td>8012</td>\n",
       "      <td>300</td>\n",
       "      <td>26.71</td>\n",
       "    </tr>\n",
       "    <tr>\n",
       "      <th>3</th>\n",
       "      <td>7775</td>\n",
       "      <td>300</td>\n",
       "      <td>25.92</td>\n",
       "    </tr>\n",
       "    <tr>\n",
       "      <th>4</th>\n",
       "      <td>7965</td>\n",
       "      <td>300</td>\n",
       "      <td>26.55</td>\n",
       "    </tr>\n",
       "    <tr>\n",
       "      <th>5</th>\n",
       "      <td>7864</td>\n",
       "      <td>300</td>\n",
       "      <td>26.21</td>\n",
       "    </tr>\n",
       "    <tr>\n",
       "      <th>6</th>\n",
       "      <td>7989</td>\n",
       "      <td>300</td>\n",
       "      <td>26.63</td>\n",
       "    </tr>\n",
       "    <tr>\n",
       "      <th>7</th>\n",
       "      <td>8115</td>\n",
       "      <td>300</td>\n",
       "      <td>27.05</td>\n",
       "    </tr>\n",
       "    <tr>\n",
       "      <th>8</th>\n",
       "      <td>7980</td>\n",
       "      <td>300</td>\n",
       "      <td>26.60</td>\n",
       "    </tr>\n",
       "  </tbody>\n",
       "</table>\n",
       "</div>"
      ],
      "text/plain": [
       "      C  Zeit      I\n",
       "0  7998   300  26.66\n",
       "1  7621   300  25.40\n",
       "2  8012   300  26.71\n",
       "3  7775   300  25.92\n",
       "4  7965   300  26.55\n",
       "5  7864   300  26.21\n",
       "6  7989   300  26.63\n",
       "7  8115   300  27.05\n",
       "8  7980   300  26.60"
      ]
     },
     "execution_count": 361,
     "metadata": {},
     "output_type": "execute_result"
    }
   ],
   "source": [
    "filepath = []\n",
    "peakValue = []\n",
    "peakIndex = []\n",
    "for root, dirs, files in os.walk(\"Daten/Block 2/\"):\n",
    "    for filename in files:\n",
    "        filepath.append(os.path.join(root,filename))\n",
    "        data = np.genfromtxt(os.path.join(root,filename), skip_header=12, skip_footer=14)\n",
    "        peaks, _ = find_peaks(data, prominence=2000) \n",
    "        peakIndex.append(peaks)\n",
    "        peakValue.append(data[peaks])\n",
    "\n",
    "data = pd.DataFrame([])\n",
    "peakValue=np.array(peakValue)\n",
    "data[\"Zeit\"] = 300*np.ones(len(filepath))\n",
    "data[\"C\"] = peakValue\n",
    "\n",
    "data[\"I\"] = data[\"C\"]/data[\"Zeit\"]\n",
    "reihenfolge = [\"C\",\"Zeit\" , \"I\"]\n",
    "data = data.reindex(columns = reihenfolge)\n",
    "data.astype({\"Zeit\":int, \"C\":int}).round({\"I\":2})\n"
   ]
  },
  {
   "cell_type": "code",
   "execution_count": 362,
   "id": "697e91c4",
   "metadata": {},
   "outputs": [
    {
     "name": "stdout",
     "output_type": "stream",
     "text": [
      "\\begin{tabular}{rrrrl}\n",
      "\\toprule\n",
      " Projektion &  Zeit &     C &  C\\_err &           I \\\\\n",
      "\\midrule\n",
      "          4 &   300 & 41777 &    300 & 139.3+/-1.0 \\\\\n",
      "          5 &   300 & 43230 &    289 & 144.1+/-1.0 \\\\\n",
      "          6 &   300 & 41772 &    287 & 139.2+/-1.0 \\\\\n",
      "          7 &   300 & 43714 &    273 & 145.7+/-0.9 \\\\\n",
      "          8 &   300 & 42274 &    259 & 140.9+/-0.9 \\\\\n",
      "          9 &   300 & 41326 &    297 & 137.8+/-1.0 \\\\\n",
      "         12 &   300 & 41886 &    297 & 139.6+/-1.0 \\\\\n",
      "         11 &   300 & 42662 &    288 & 142.2+/-1.0 \\\\\n",
      "         10 &   300 & 44080 &    280 & 146.9+/-0.9 \\\\\n",
      "\\bottomrule\n",
      "\\end{tabular}\n",
      "\n"
     ]
    },
    {
     "name": "stderr",
     "output_type": "stream",
     "text": [
      "/tmp/ipykernel_2643/1840750910.py:14: FutureWarning: In future versions `DataFrame.to_latex` is expected to utilise the base implementation of `Styler.to_latex` for formatting and rendering. The arguments signature may therefore change. It is recommended instead to use `DataFrame.style.to_latex` which also contains additional functionality.\n",
      "  print(df.to_latex(index=False))\n"
     ]
    }
   ],
   "source": [
    "C =  np.array([41777,43230,41772,43714,42274,41326,41886,42662,44080])\n",
    "C_err = np.array([300,289,287,273,259,297,297,288,280])\n",
    "uarrC = unp.uarray(C,C_err)\n",
    "j = np.array([inv_pathDict[k] for k in [123,456,789,26,159,48,147,258,369]])\n",
    "t = np.array([300 for i in range(C.size)])\n",
    "\n",
    "df = pd.DataFrame(columns=[\"Projektion\", \"Zeit\",\"C\",\"C_err\",\"I\"])\n",
    "df[\"Projektion\"] = j \n",
    "df[\"Zeit\"] = t \n",
    "df[\"C\"] = C\n",
    "df[\"C_err\"] = C_err\n",
    "df[\"I\"] = uarrC/t \n",
    "\n",
    "print(df.to_latex(index=False))"
   ]
  },
  {
   "cell_type": "markdown",
   "id": "4eb3cecc",
   "metadata": {},
   "source": [
    "berechnung von $\\mu$"
   ]
  },
  {
   "cell_type": "code",
   "execution_count": 363,
   "id": "d827c8a5",
   "metadata": {},
   "outputs": [
    {
     "data": {
      "text/plain": [
       "array([ 4,  5,  6,  7,  8,  9, 12, 11, 10])"
      ]
     },
     "execution_count": 363,
     "metadata": {},
     "output_type": "execute_result"
    }
   ],
   "source": [
    "j"
   ]
  },
  {
   "cell_type": "markdown",
   "id": "7bcce329",
   "metadata": {},
   "source": [
    "### Berechne $\\vec{\\mu}$"
   ]
  },
  {
   "cell_type": "markdown",
   "id": "71498947",
   "metadata": {},
   "source": [
    "Unsere Matrix A:"
   ]
  },
  {
   "cell_type": "code",
   "execution_count": 364,
   "id": "02ae9a2c",
   "metadata": {},
   "outputs": [],
   "source": [
    "A = Matrix(matArr[j-1])"
   ]
  },
  {
   "cell_type": "markdown",
   "id": "b270ce74",
   "metadata": {},
   "source": [
    "Vector der Zählraten:"
   ]
  },
  {
   "cell_type": "code",
   "execution_count": 365,
   "id": "ba81fbe3",
   "metadata": {},
   "outputs": [],
   "source": [
    "N_vec = Matrix(C/t)"
   ]
  },
  {
   "cell_type": "markdown",
   "id": "6e117df7",
   "metadata": {},
   "source": [
    "Gewichtungsmatrix"
   ]
  },
  {
   "cell_type": "code",
   "execution_count": 366,
   "id": "2fe772cb",
   "metadata": {},
   "outputs": [],
   "source": [
    "#Diagonalwerte der Gewichtungsmatrix\n",
    "Nj = C/t\n",
    "Nj_err = C_err/t\n",
    "\n",
    "# #Korrektur zum letzten Versuch\n",
    "# Nj_uarr = unp.log(unp.uarray(I_0_12[j-1],I_0_12_err[j-1])/unp.uarray(Nj, Nj_err))\n",
    "# Nj = unp.nominal_values(Nj_uarr)\n",
    "# Nj_err = unp.std_devs(Nj_uarr)\n",
    "\n",
    "w_i  =  [np.sqrt((I_0_err[I0_index[k]]/I_0[I0_index[k]])**2 + (Nj_err[i]/Nj[i])**2) for i,k in enumerate(j)]\n",
    "W = Matrix(np.diag(w_i))\n",
    "\n",
    "# W = Matrix(np.diag(Nj_err)).inv()"
   ]
  },
  {
   "cell_type": "markdown",
   "id": "ff9df95f",
   "metadata": {},
   "source": [
    "Berechne $\\vec{\\mu} = (A^T W A)^{-1} (A^T W \\vec{N})$"
   ]
  },
  {
   "cell_type": "code",
   "execution_count": 367,
   "id": "2ab695bc",
   "metadata": {},
   "outputs": [
    {
     "data": {
      "image/png": "[encoded data removed]",
      "text/latex": [
       "$\\displaystyle \\left[\\begin{matrix}-0.6012\\\\1.451\\\\0.6319\\\\1.545\\\\0.4294\\\\-0.09373\\\\0.6238\\\\0.8663\\\\0.2651\\end{matrix}\\right]$"
      ],
      "text/plain": [
       "⎡-0.6012 ⎤\n",
       "⎢        ⎥\n",
       "⎢ 1.451  ⎥\n",
       "⎢        ⎥\n",
       "⎢ 0.6319 ⎥\n",
       "⎢        ⎥\n",
       "⎢ 1.545  ⎥\n",
       "⎢        ⎥\n",
       "⎢ 0.4294 ⎥\n",
       "⎢        ⎥\n",
       "⎢-0.09373⎥\n",
       "⎢        ⎥\n",
       "⎢ 0.6238 ⎥\n",
       "⎢        ⎥\n",
       "⎢ 0.8663 ⎥\n",
       "⎢        ⎥\n",
       "⎣ 0.2651 ⎦"
      ]
     },
     "execution_count": 367,
     "metadata": {},
     "output_type": "execute_result"
    }
   ],
   "source": [
    "mu = (A.transpose()*W*A).inv()*(A.transpose()*W*N_vec)\n",
    "(mu/100).evalf(4) #Konvertiere von 1/m zu 1/cm"
   ]
  },
  {
   "cell_type": "code",
   "execution_count": 368,
   "id": "cc4c398f",
   "metadata": {},
   "outputs": [
    {
     "name": "stdout",
     "output_type": "stream",
     "text": [
      "\\begin{tabular}{r}\n",
      "\\toprule\n",
      "        0 \\\\\n",
      "\\midrule\n",
      "-0.601181 \\\\\n",
      " 1.451370 \\\\\n",
      " 0.631905 \\\\\n",
      " 1.545090 \\\\\n",
      " 0.429356 \\\\\n",
      "-0.093726 \\\\\n",
      " 0.623833 \\\\\n",
      " 0.866272 \\\\\n",
      " 0.265099 \\\\\n",
      "\\bottomrule\n",
      "\\end{tabular}\n",
      "\n"
     ]
    },
    {
     "name": "stderr",
     "output_type": "stream",
     "text": [
      "/tmp/ipykernel_2643/2034900186.py:2: FutureWarning: In future versions `DataFrame.to_latex` is expected to utilise the base implementation of `Styler.to_latex` for formatting and rendering. The arguments signature may therefore change. It is recommended instead to use `DataFrame.style.to_latex` which also contains additional functionality.\n",
      "  print(df.to_latex(index=False))\n"
     ]
    }
   ],
   "source": [
    "df = pd.DataFrame(data=np.array((mu/100).evalf(4)).astype(np.float64))\n",
    "print(df.to_latex(index=False))"
   ]
  },
  {
   "cell_type": "code",
   "execution_count": 369,
   "id": "43075208",
   "metadata": {},
   "outputs": [],
   "source": [
    "#I_test = np.array([np.log(I_0[I0_index[k]]/Nj[i]) for i, k in enumerate(j) ])\n",
    "#I_test = Matrix(I_test)\n",
    "\n",
    "#mu = (A.transpose()*A)*A.transpose()*I_test\n",
    "#(mu/100).evalf(4) #Konvertiere von 1/m zu 1/cm"
   ]
  },
  {
   "cell_type": "markdown",
   "id": "34433141",
   "metadata": {},
   "source": [
    "Mittelwert berechnen:"
   ]
  },
  {
   "cell_type": "code",
   "execution_count": 370,
   "id": "67359e50",
   "metadata": {},
   "outputs": [
    {
     "name": "stdout",
     "output_type": "stream",
     "text": [
      "0.57+/-0.22\n"
     ]
    }
   ],
   "source": [
    "muArr = np.array(mu/100).astype(np.float64)\n",
    "mean = np.mean(muArr)\n",
    "mean_err = np.std(muArr)/np.sqrt(len(muArr))\n",
    "mean_full = ufloat(mean,mean_err)\n",
    "print(mean_full)"
   ]
  },
  {
   "cell_type": "markdown",
   "id": "f2f7132b",
   "metadata": {},
   "source": [
    "Abweichung:"
   ]
  },
  {
   "cell_type": "code",
   "execution_count": 371,
   "id": "392e916f",
   "metadata": {},
   "outputs": [
    {
     "name": "stdout",
     "output_type": "stream",
     "text": [
      "Eisen: 0.32%\n"
     ]
    }
   ],
   "source": [
    "theo = {\n",
    "    0.2007:\"Aluminium\",\n",
    "    1.1741:\"Blei\",\n",
    "    0.5705:\"Eisen\",\n",
    "    0.5917:\"Messing\",\n",
    "    0.1167:\"Delrin\"\n",
    "}\n",
    "theo_inv = {theo[value]:value for value in theo}\n",
    "\n",
    "naechsterWert = list(theo)[np.argmin([np.abs(mean-value) for value in theo])]\n",
    "print(theo[naechsterWert]+\": \"+ str(np.around(np.abs(mean/naechsterWert-1)*100,2))+\"%\")"
   ]
  },
  {
   "cell_type": "markdown",
   "id": "71e4b168",
   "metadata": {},
   "source": [
    "# Block 3"
   ]
  },
  {
   "cell_type": "code",
   "execution_count": 372,
   "id": "946d49f3",
   "metadata": {},
   "outputs": [
    {
     "data": {
      "text/html": [
       "<div>\n",
       "<style scoped>\n",
       "    .dataframe tbody tr th:only-of-type {\n",
       "        vertical-align: middle;\n",
       "    }\n",
       "\n",
       "    .dataframe tbody tr th {\n",
       "        vertical-align: top;\n",
       "    }\n",
       "\n",
       "    .dataframe thead th {\n",
       "        text-align: right;\n",
       "    }\n",
       "</style>\n",
       "<table border=\"1\" class=\"dataframe\">\n",
       "  <thead>\n",
       "    <tr style=\"text-align: right;\">\n",
       "      <th></th>\n",
       "      <th>C</th>\n",
       "      <th>Zeit</th>\n",
       "      <th>I</th>\n",
       "    </tr>\n",
       "  </thead>\n",
       "  <tbody>\n",
       "    <tr>\n",
       "      <th>0</th>\n",
       "      <td>327</td>\n",
       "      <td>300</td>\n",
       "      <td>1.09</td>\n",
       "    </tr>\n",
       "    <tr>\n",
       "      <th>1</th>\n",
       "      <td>361</td>\n",
       "      <td>300</td>\n",
       "      <td>1.20</td>\n",
       "    </tr>\n",
       "    <tr>\n",
       "      <th>2</th>\n",
       "      <td>155</td>\n",
       "      <td>300</td>\n",
       "      <td>0.52</td>\n",
       "    </tr>\n",
       "    <tr>\n",
       "      <th>3</th>\n",
       "      <td>152</td>\n",
       "      <td>300</td>\n",
       "      <td>0.51</td>\n",
       "    </tr>\n",
       "    <tr>\n",
       "      <th>4</th>\n",
       "      <td>362</td>\n",
       "      <td>300</td>\n",
       "      <td>1.21</td>\n",
       "    </tr>\n",
       "    <tr>\n",
       "      <th>5</th>\n",
       "      <td>345</td>\n",
       "      <td>300</td>\n",
       "      <td>1.15</td>\n",
       "    </tr>\n",
       "    <tr>\n",
       "      <th>6</th>\n",
       "      <td>352</td>\n",
       "      <td>300</td>\n",
       "      <td>1.17</td>\n",
       "    </tr>\n",
       "    <tr>\n",
       "      <th>7</th>\n",
       "      <td>328</td>\n",
       "      <td>300</td>\n",
       "      <td>1.09</td>\n",
       "    </tr>\n",
       "    <tr>\n",
       "      <th>8</th>\n",
       "      <td>493</td>\n",
       "      <td>300</td>\n",
       "      <td>1.64</td>\n",
       "    </tr>\n",
       "    <tr>\n",
       "      <th>9</th>\n",
       "      <td>403</td>\n",
       "      <td>300</td>\n",
       "      <td>1.34</td>\n",
       "    </tr>\n",
       "  </tbody>\n",
       "</table>\n",
       "</div>"
      ],
      "text/plain": [
       "     C  Zeit     I\n",
       "0  327   300  1.09\n",
       "1  361   300  1.20\n",
       "2  155   300  0.52\n",
       "3  152   300  0.51\n",
       "4  362   300  1.21\n",
       "5  345   300  1.15\n",
       "6  352   300  1.17\n",
       "7  328   300  1.09\n",
       "8  493   300  1.64\n",
       "9  403   300  1.34"
      ]
     },
     "execution_count": 372,
     "metadata": {},
     "output_type": "execute_result"
    }
   ],
   "source": [
    "filepath = []\n",
    "peakValue = []\n",
    "peakIndex = []\n",
    "for root, dirs, files in os.walk(\"Daten/Block 3/\"):\n",
    "    for filename in files:\n",
    "        #print(os.path.join(root,filename))\n",
    "        filepath.append(os.path.join(root,filename))\n",
    "        data = np.genfromtxt(os.path.join(root,filename), skip_header=12, skip_footer=14)\n",
    "        peaks, _ = find_peaks(data,prominence=50)\n",
    "        peaks = peaks[1] \n",
    "        # plt.plot(peaks,data[peaks],\"x\")\n",
    "        # plt.plot(data)\n",
    "        # plt.show()\n",
    "        peakIndex.append(peaks)\n",
    "        peakValue.append(data[peaks])\n",
    "\n",
    "data = pd.DataFrame([])\n",
    "peakValue=np.array(peakValue)\n",
    "data[\"Zeit\"] = 300*np.ones(len(filepath))\n",
    "data[\"C\"] = peakValue\n",
    "\n",
    "data[\"I\"] = data[\"C\"]/data[\"Zeit\"]\n",
    "reihenfolge = [\"C\",\"Zeit\" , \"I\"]\n",
    "data = data.reindex(columns = reihenfolge)\n",
    "data.astype({\"Zeit\":int, \"C\":int}).round({\"I\":2})"
   ]
  },
  {
   "cell_type": "code",
   "execution_count": 427,
   "id": "ad6cff89",
   "metadata": {},
   "outputs": [
    {
     "name": "stdout",
     "output_type": "stream",
     "text": [
      "\\begin{tabular}{rrrrl}\n",
      "\\toprule\n",
      " Projektion &  Zeit &    C &  C\\_err &           I \\\\\n",
      "\\midrule\n",
      "          4 &   300 & 1788 &     55 & 5.96+/-0.18 \\\\\n",
      "          5 &   300 & 1751 &     56 & 5.84+/-0.19 \\\\\n",
      "          6 &   300 & 2148 &     58 & 7.16+/-0.19 \\\\\n",
      "          7 &   300 & 1928 &     60 & 6.43+/-0.20 \\\\\n",
      "          9 &   300 & 2689 &     62 & 8.96+/-0.21 \\\\\n",
      "          8 &   300 & 1358 &     72 & 4.53+/-0.24 \\\\\n",
      "         12 &   300 & 2145 &     60 & 7.15+/-0.20 \\\\\n",
      "         11 &   300 & 1829 &     60 & 6.10+/-0.20 \\\\\n",
      "         10 &   300 & 1904 &     60 & 6.35+/-0.20 \\\\\n",
      "\\bottomrule\n",
      "\\end{tabular}\n",
      "\n"
     ]
    },
    {
     "name": "stderr",
     "output_type": "stream",
     "text": [
      "/tmp/ipykernel_2643/3038725187.py:14: FutureWarning: In future versions `DataFrame.to_latex` is expected to utilise the base implementation of `Styler.to_latex` for formatting and rendering. The arguments signature may therefore change. It is recommended instead to use `DataFrame.style.to_latex` which also contains additional functionality.\n",
      "  print(df.to_latex(index=False))\n"
     ]
    }
   ],
   "source": [
    "C =  np.array([1788,1751,2148,1928,2689,679*2, 2145,1829,1904])\n",
    "C_err = np.array([55,56,58,60,62,36*2,60,60,60])\n",
    "uarrC = unp.uarray(C,C_err)\n",
    "j = np.array([inv_pathDict[k] for k in [123,456,789,26,48,159,147,258,369]])\n",
    "t = np.array([300 for i in range(C.size)])\n",
    "\n",
    "df = pd.DataFrame(columns=[\"Projektion\", \"Zeit\",\"C\",\"C_err\",\"I\"])\n",
    "df[\"Projektion\"] = j \n",
    "df[\"Zeit\"] = t \n",
    "df[\"C\"] = C\n",
    "df[\"C_err\"] = C_err\n",
    "df[\"I\"] = uarrC/t \n",
    "\n",
    "print(df.to_latex(index=False))"
   ]
  },
  {
   "cell_type": "code",
   "execution_count": 374,
   "id": "c9cefb5e",
   "metadata": {},
   "outputs": [
    {
     "data": {
      "text/plain": [
       "array([ 4,  5,  6,  7,  9,  8, 12, 11, 10])"
      ]
     },
     "execution_count": 374,
     "metadata": {},
     "output_type": "execute_result"
    }
   ],
   "source": [
    "j"
   ]
  },
  {
   "cell_type": "markdown",
   "id": "c8eaec25",
   "metadata": {},
   "source": [
    "Diese Rechnungen wurden oben alle detailiert protokolliert:"
   ]
  },
  {
   "cell_type": "code",
   "execution_count": 428,
   "id": "e34ec1f1",
   "metadata": {},
   "outputs": [
    {
     "data": {
      "image/png": "[encoded data removed]",
      "text/latex": [
       "$\\displaystyle \\left[\\begin{matrix}0.8414\\\\0.8657\\\\0.2546\\\\0.9657\\\\0.05269\\\\0.8536\\\\0.265\\\\0.7414\\\\1.019\\end{matrix}\\right]$"
      ],
      "text/plain": [
       "⎡0.8414 ⎤\n",
       "⎢       ⎥\n",
       "⎢0.8657 ⎥\n",
       "⎢       ⎥\n",
       "⎢0.2546 ⎥\n",
       "⎢       ⎥\n",
       "⎢0.9657 ⎥\n",
       "⎢       ⎥\n",
       "⎢0.05269⎥\n",
       "⎢       ⎥\n",
       "⎢0.8536 ⎥\n",
       "⎢       ⎥\n",
       "⎢ 0.265 ⎥\n",
       "⎢       ⎥\n",
       "⎢0.7414 ⎥\n",
       "⎢       ⎥\n",
       "⎣ 1.019 ⎦"
      ]
     },
     "execution_count": 428,
     "metadata": {},
     "output_type": "execute_result"
    }
   ],
   "source": [
    "A = Matrix(matArr[j-1])\n",
    "N_vec = Matrix(C/t)\n",
    "#Diagonalwerte der Gewichtungsmatrix\n",
    "Nj = C/t\n",
    "Nj_err = C_err/t\n",
    "\n",
    "#Korrektur zum letzten Versuch\n",
    "Nj_uarr = unp.log(unp.uarray(I_0_12[j-1],I_0_12_err[j-1])/unp.uarray(Nj, Nj_err))\n",
    "Nj = unp.nominal_values(Nj_uarr)\n",
    "Nj_err = unp.std_devs(Nj_uarr)\n",
    "\n",
    "w_i  =  [np.sqrt((I_0_err[I0_index[k]]/I_0[I0_index[k]])**2 + (Nj_err[i]/Nj[i])**2) for i,k in enumerate(j)]\n",
    "W = Matrix(np.diag(w_i))\n",
    "\n",
    "mu = (A.transpose()*W*A).inv()*(A.transpose()*W*N_vec)\n",
    "(abs(mu)/10).evalf(4) #Konvertiere von 1/m zu 1/cm\n"
   ]
  },
  {
   "cell_type": "code",
   "execution_count": 406,
   "id": "fe1af74b",
   "metadata": {},
   "outputs": [
    {
     "name": "stdout",
     "output_type": "stream",
     "text": [
      "\\begin{tabular}{r}\n",
      "\\toprule\n",
      "       0 \\\\\n",
      "\\midrule\n",
      "0.841423 \\\\\n",
      "0.865685 \\\\\n",
      "0.254574 \\\\\n",
      "0.965683 \\\\\n",
      "0.052687 \\\\\n",
      "0.853554 \\\\\n",
      "0.265022 \\\\\n",
      "0.741425 \\\\\n",
      "1.019241 \\\\\n",
      "\\bottomrule\n",
      "\\end{tabular}\n",
      "\n"
     ]
    },
    {
     "name": "stderr",
     "output_type": "stream",
     "text": [
      "/tmp/ipykernel_2643/3181882443.py:2: FutureWarning: In future versions `DataFrame.to_latex` is expected to utilise the base implementation of `Styler.to_latex` for formatting and rendering. The arguments signature may therefore change. It is recommended instead to use `DataFrame.style.to_latex` which also contains additional functionality.\n",
      "  print(df.to_latex(index=False))\n"
     ]
    }
   ],
   "source": [
    "df = pd.DataFrame(data=np.array((abs(mu)/10).evalf(4)).astype(np.float64))\n",
    "print(df.to_latex(index=False))"
   ]
  },
  {
   "cell_type": "code",
   "execution_count": 429,
   "id": "7698c96c",
   "metadata": {},
   "outputs": [
    {
     "name": "stdout",
     "output_type": "stream",
     "text": [
      "0.65+/-0.11\n",
      "Messing: 10.03%\n",
      "Messing: 10.03%\n"
     ]
    }
   ],
   "source": [
    "muArr = np.array(abs(mu)/10).astype(np.float64)\n",
    "mean = np.mean(muArr)\n",
    "mean_err = np.std(muArr)/np.sqrt(len(muArr))\n",
    "mean_full = ufloat(mean,mean_err)\n",
    "print(mean_full)\n",
    "\n",
    "\n",
    "theo = {\n",
    "    0.2007:\"Aluminium\",\n",
    "    1.1741:\"Blei\",\n",
    "    0.5705:\"Eisen\",\n",
    "    0.5917:\"Messing\",\n",
    "    0.1167:\"Delrin\"\n",
    "}\n",
    "theo_inv = {theo[value]:value for value in theo}\n",
    "\n",
    "naechsterWert = list(theo)[np.argmin([np.abs(mean-value) for value in theo])]\n",
    "print(theo[naechsterWert]+\": \"+ str(np.around((mean/naechsterWert-1)*100,2))+\"%\")\n",
    "naechsterWert = theo_inv[\"Messing\"]\n",
    "print(theo[naechsterWert]+\": \"+ str(np.around((mean/naechsterWert-1)*100,2))+\"%\")"
   ]
  },
  {
   "cell_type": "markdown",
   "id": "7e6701a5",
   "metadata": {},
   "source": [
    "# Block 4"
   ]
  },
  {
   "cell_type": "code",
   "execution_count": 377,
   "id": "fd0c9f36",
   "metadata": {},
   "outputs": [
    {
     "name": "stdout",
     "output_type": "stream",
     "text": [
      "\\begin{tabular}{lrrr}\n",
      "\\toprule\n",
      "{} &    C &  Zeit &     I \\\\\n",
      "\\midrule\n",
      "0 &  327 &   300 &  1.09 \\\\\n",
      "1 &  361 &   300 &  1.20 \\\\\n",
      "2 &  155 &   300 &  0.52 \\\\\n",
      "3 &  152 &   300 &  0.51 \\\\\n",
      "4 &  362 &   300 &  1.21 \\\\\n",
      "5 &  345 &   300 &  1.15 \\\\\n",
      "6 &  352 &   300 &  1.17 \\\\\n",
      "7 &  328 &   300 &  1.09 \\\\\n",
      "8 &  493 &   300 &  1.64 \\\\\n",
      "9 &  403 &   300 &  1.34 \\\\\n",
      "\\bottomrule\n",
      "\\end{tabular}\n",
      "\n"
     ]
    },
    {
     "name": "stderr",
     "output_type": "stream",
     "text": [
      "/tmp/ipykernel_2643/1894960086.py:27: FutureWarning: In future versions `DataFrame.to_latex` is expected to utilise the base implementation of `Styler.to_latex` for formatting and rendering. The arguments signature may therefore change. It is recommended instead to use `DataFrame.style.to_latex` which also contains additional functionality.\n",
      "  print(neuData.to_latex())\n"
     ]
    }
   ],
   "source": [
    "filepath = []\n",
    "peakValue = []\n",
    "peakIndex = []\n",
    "for root, dirs, files in os.walk(\"Daten/Block 3/\"):\n",
    "    for filename in files:\n",
    "        #print(os.path.join(root,filename))\n",
    "        filepath.append(os.path.join(root,filename))\n",
    "        data = np.genfromtxt(os.path.join(root,filename), skip_header=12, skip_footer=14)\n",
    "        peaks, _ = find_peaks(data,prominence=50)\n",
    "        peaks = peaks[1] \n",
    "        # plt.plot(peaks,data[peaks],\"x\")\n",
    "        # plt.plot(data)\n",
    "        # plt.show()\n",
    "        peakIndex.append(peaks)\n",
    "        peakValue.append(data[peaks])\n",
    "\n",
    "data = pd.DataFrame([])\n",
    "peakValue=np.array(peakValue)\n",
    "data[\"Zeit\"] = 300*np.ones(len(filepath))\n",
    "data[\"C\"] = peakValue\n",
    "\n",
    "data[\"I\"] = data[\"C\"]/data[\"Zeit\"]\n",
    "reihenfolge = [\"C\",\"Zeit\" , \"I\"]\n",
    "data = data.reindex(columns = reihenfolge)\n",
    "neuData = data.astype({\"Zeit\":int, \"C\":int}).round({\"I\":2})\n",
    "\n",
    "print(neuData.to_latex())"
   ]
  },
  {
   "cell_type": "code",
   "execution_count": 407,
   "id": "d402ccd3",
   "metadata": {},
   "outputs": [
    {
     "name": "stdout",
     "output_type": "stream",
     "text": [
      "\\begin{tabular}{rrrrl}\n",
      "\\toprule\n",
      " Projektion &  Zeit &     C &  C\\_err &            I \\\\\n",
      "\\midrule\n",
      "          4 &   300 & 14752 &    146 &   49.2+/-0.5 \\\\\n",
      "          5 &   300 & 13959 &    170 &   46.5+/-0.6 \\\\\n",
      "          6 &   300 & 13095 &    168 &   43.6+/-0.6 \\\\\n",
      "          7 &   300 &  9203 &    140 &   30.7+/-0.5 \\\\\n",
      "          8 &   300 &  8382 &    107 &   27.9+/-0.4 \\\\\n",
      "          9 &   300 & 11430 &    194 &   38.1+/-0.6 \\\\\n",
      "         12 &   300 & 41959 &    274 &  139.9+/-0.9 \\\\\n",
      "         11 &   300 &  1732 &     52 &  5.77+/-0.17 \\\\\n",
      "         10 &   300 & 40324 &    279 &  134.4+/-0.9 \\\\\n",
      "          1 &   300 &  9735 &    161 &   32.5+/-0.5 \\\\\n",
      "          2 &   300 &  8366 &    104 & 27.89+/-0.35 \\\\\n",
      "          3 &   300 & 13498 &    170 &   45.0+/-0.6 \\\\\n",
      "\\bottomrule\n",
      "\\end{tabular}\n",
      "\n"
     ]
    },
    {
     "name": "stderr",
     "output_type": "stream",
     "text": [
      "/tmp/ipykernel_2643/2116558524.py:14: FutureWarning: In future versions `DataFrame.to_latex` is expected to utilise the base implementation of `Styler.to_latex` for formatting and rendering. The arguments signature may therefore change. It is recommended instead to use `DataFrame.style.to_latex` which also contains additional functionality.\n",
      "  print(df.to_latex(index=False))\n"
     ]
    }
   ],
   "source": [
    "C =  np.array([14752,13959,13095,9203,8382,11430,41959,1732,40324,9735,8366,13498])\n",
    "C_err = np.array([146,170,168,140,107,194,274,52,279,161,104,170])\n",
    "uarrC = unp.uarray(C,C_err)\n",
    "j = np.array([inv_pathDict[k] for k in [123,456,789,26,159,48,147,258,369,24,357,68]])\n",
    "t = np.array([300 for i in range(C.size)])\n",
    "\n",
    "df = pd.DataFrame(columns=[\"Projektion\", \"Zeit\",\"C\",\"C_err\",\"I\"])\n",
    "df[\"Projektion\"] = j \n",
    "df[\"Zeit\"] = t \n",
    "df[\"C\"] = C\n",
    "df[\"C_err\"] = C_err\n",
    "df[\"I\"] = uarrC/t \n",
    "\n",
    "print(df.to_latex(index=False))"
   ]
  },
  {
   "cell_type": "code",
   "execution_count": 418,
   "id": "e5e1980d",
   "metadata": {},
   "outputs": [
    {
     "data": {
      "image/png": "[encoded data removed]",
      "text/latex": [
       "$\\displaystyle \\left[\\begin{matrix}0.3643\\\\0.08172\\\\0.3278\\\\0.3828\\\\0.3158\\\\0.4009\\\\0.3011\\\\0.01113\\\\0.265\\end{matrix}\\right]$"
      ],
      "text/plain": [
       "⎡0.3643 ⎤\n",
       "⎢       ⎥\n",
       "⎢0.08172⎥\n",
       "⎢       ⎥\n",
       "⎢0.3278 ⎥\n",
       "⎢       ⎥\n",
       "⎢0.3828 ⎥\n",
       "⎢       ⎥\n",
       "⎢0.3158 ⎥\n",
       "⎢       ⎥\n",
       "⎢0.4009 ⎥\n",
       "⎢       ⎥\n",
       "⎢0.3011 ⎥\n",
       "⎢       ⎥\n",
       "⎢0.01113⎥\n",
       "⎢       ⎥\n",
       "⎣ 0.265 ⎦"
      ]
     },
     "execution_count": 418,
     "metadata": {},
     "output_type": "execute_result"
    }
   ],
   "source": [
    "A = Matrix(matArr[j-1])\n",
    "N_vec = Matrix(C/t)\n",
    "#Diagonalwerte der Gewichtungsmatrix\n",
    "Nj = C/t\n",
    "Nj_err = C_err/t\n",
    "\n",
    "# Korrektur zum letzten Versuch\n",
    "# Nj_uarr = unp.log(unp.uarray(I_0_12[j-1],I_0_12_err[j-1])/unp.uarray(Nj, Nj_err))\n",
    "# Nj = unp.nominal_values(Nj_uarr)\n",
    "# Nj_err = unp.std_devs(Nj_uarr)\n",
    "# N_vec = Matrix(Nj)\n",
    "\n",
    "w_i  =  [np.sqrt((I_0_err[I0_index[k]]/I_0[I0_index[k]])**2 + (Nj_err[i]/Nj[i])**2) for i,k in enumerate(j)]\n",
    "W = Matrix(np.diag(w_i))\n",
    "\n",
    "# mu = (A.transpose()*W*A).inv()*(A.transpose()*W*N_vec)\n",
    "# (mu/100).evalf(4) #Konvertiere von 1/m zu 1/cm\n",
    "\n",
    "mu = (A.transpose()*A).inv()*A.transpose()*N_vec\n",
    "(abs(mu)/100).evalf(4) #Konvertiere von 1/m zu 1/cm\n"
   ]
  },
  {
   "cell_type": "code",
   "execution_count": 419,
   "id": "fd55b25f",
   "metadata": {},
   "outputs": [
    {
     "name": "stdout",
     "output_type": "stream",
     "text": [
      "\\begin{tabular}{r}\n",
      "\\toprule\n",
      "       0 \\\\\n",
      "\\midrule\n",
      "0.364250 \\\\\n",
      "0.081718 \\\\\n",
      "0.327763 \\\\\n",
      "0.382805 \\\\\n",
      "0.315788 \\\\\n",
      "0.400906 \\\\\n",
      "0.301147 \\\\\n",
      "0.011126 \\\\\n",
      "0.265038 \\\\\n",
      "\\bottomrule\n",
      "\\end{tabular}\n",
      "\n"
     ]
    },
    {
     "name": "stderr",
     "output_type": "stream",
     "text": [
      "/tmp/ipykernel_2643/1737483325.py:2: FutureWarning: In future versions `DataFrame.to_latex` is expected to utilise the base implementation of `Styler.to_latex` for formatting and rendering. The arguments signature may therefore change. It is recommended instead to use `DataFrame.style.to_latex` which also contains additional functionality.\n",
      "  print(df.to_latex(index=False))\n"
     ]
    }
   ],
   "source": [
    "df = pd.DataFrame(data=np.array((abs(mu)/100).evalf(4)).astype(np.float64))\n",
    "print(df.to_latex(index=False))"
   ]
  },
  {
   "cell_type": "code",
   "execution_count": 387,
   "id": "65bee234",
   "metadata": {},
   "outputs": [],
   "source": [
    "theo = {\n",
    "    0.2007:\"Aluminium\",\n",
    "    1.1741:\"Blei\",\n",
    "    0.5705:\"Eisen\",\n",
    "    0.5917:\"Messing\",\n",
    "    0.1167:\"Delrin\"\n",
    "}\n",
    "theo_inv = {theo[value]:value for value in theo}"
   ]
  },
  {
   "cell_type": "code",
   "execution_count": 423,
   "id": "3a537e1a",
   "metadata": {},
   "outputs": [
    {
     "name": "stdout",
     "output_type": "stream",
     "text": [
      "Aluminium: 35.67\\%\n",
      "Delrin: 133.32\\%\n",
      "Aluminium: 35.67\\%\n",
      "Aluminium: 35.67\\%\n",
      "Aluminium: 35.67\\%\n",
      "Eisen: -52.27\\%\n",
      "Aluminium: 35.67\\%\n",
      "Delrin: 133.32\\%\n",
      "Aluminium: 35.67\\%\n"
     ]
    }
   ],
   "source": [
    "#Mittelwert von\n",
    "#mu5, mu7, mu9\n",
    "\n",
    "muArr = np.array(abs(mu)/100).astype(np.float64)\n",
    "# mean = np.mean(muArr) \n",
    "# mean_err = np.std(muArr)/np.sqrt(len(muArr))\n",
    "# mean_full = ufloat(mean,mean_err)\n",
    "# print(mean_full)\n",
    "\n",
    "elemente = []\n",
    "abweichungen = []\n",
    "for mu_i in muArr:\n",
    "    naechsterWert = list(theo)[np.argmin([np.abs(mu_i-value) for value in theo])]\n",
    "    print(theo[naechsterWert]+\": \"+ str(np.around((mean/naechsterWert-1)*100,2))+\"\\%\")\n",
    "\n",
    "# naechsterWert = list(theo)[np.argmin([np.abs(muArr-value) for value in theo])]\n",
    "# print(theo[naechsterWert]+\": \"+ str(np.around((mean/naechsterWert-1)*100,2))+\"%\")\n",
    "# naechsterWert = theo_inv[\"Delrin\"]\n",
    "# print(theo[naechsterWert]+\": \"+ str(np.around((mean/naechsterWert-1)*100,2))+\"%\")"
   ]
  },
  {
   "cell_type": "code",
   "execution_count": 422,
   "id": "edb8c707",
   "metadata": {},
   "outputs": [
    {
     "data": {
      "text/plain": [
       "array([[0.36425049],\n",
       "       [0.08171835],\n",
       "       [0.32776096],\n",
       "       [0.38280487],\n",
       "       [0.3157866 ],\n",
       "       [0.40090681],\n",
       "       [0.30114884],\n",
       "       [0.01112553],\n",
       "       [0.26503644]])"
      ]
     },
     "execution_count": 422,
     "metadata": {},
     "output_type": "execute_result"
    }
   ],
   "source": [
    "muArr"
   ]
  },
  {
   "cell_type": "code",
   "execution_count": 382,
   "id": "0f172f14",
   "metadata": {},
   "outputs": [
    {
     "name": "stdout",
     "output_type": "stream",
     "text": [
      "\\begin{tabular}{r}\n",
      "\\toprule\n",
      "        0 \\\\\n",
      "\\midrule\n",
      " 0.319382 \\\\\n",
      "-0.011704 \\\\\n",
      " 0.286453 \\\\\n",
      " 0.299416 \\\\\n",
      "-0.207928 \\\\\n",
      " 0.329380 \\\\\n",
      " 0.246958 \\\\\n",
      " 0.061736 \\\\\n",
      " 0.211761 \\\\\n",
      "\\bottomrule\n",
      "\\end{tabular}\n",
      "\n"
     ]
    },
    {
     "name": "stderr",
     "output_type": "stream",
     "text": [
      "/tmp/ipykernel_2643/2034900186.py:2: FutureWarning: In future versions `DataFrame.to_latex` is expected to utilise the base implementation of `Styler.to_latex` for formatting and rendering. The arguments signature may therefore change. It is recommended instead to use `DataFrame.style.to_latex` which also contains additional functionality.\n",
      "  print(df.to_latex(index=False))\n"
     ]
    }
   ],
   "source": []
  },
  {
   "cell_type": "code",
   "execution_count": null,
   "id": "f07efbe6",
   "metadata": {},
   "outputs": [],
   "source": []
  },
  {
   "cell_type": "code",
   "execution_count": 424,
   "id": "ac7d8d7b",
   "metadata": {},
   "outputs": [
    {
     "name": "stdout",
     "output_type": "stream",
     "text": [
      "A = \\left[\\begin{matrix}0 & \\sqrt{2} & 0 & \\sqrt{2} & 0 & 0 & 0 & 0 & 0\\\\0 & 0 & \\sqrt{2} & 0 & \\sqrt{2} & 0 & \\sqrt{2} & 0 & 0\\\\0 & 0 & 0 & 0 & 0 & \\sqrt{2} & 0 & \\sqrt{2} & 0\\\\1 & 1 & 1 & 0 & 0 & 0 & 0 & 0 & 0\\\\0 & 0 & 0 & 1 & 1 & 1 & 0 & 0 & 0\\\\0 & 0 & 0 & 0 & 0 & 0 & 1 & 1 & 1\\\\0 & \\sqrt{2} & 0 & 0 & 0 & \\sqrt{2} & 0 & 0 & 0\\\\\\sqrt{2} & 0 & 0 & 0 & \\sqrt{2} & 0 & 0 & 0 & \\sqrt{2}\\\\0 & 0 & 0 & \\sqrt{2} & 0 & 0 & 0 & \\sqrt{2} & 0\\\\0 & 0 & 1 & 0 & 0 & 1 & 0 & 0 & 1\\\\0 & 1 & 0 & 0 & 1 & 0 & 0 & 1 & 0\\\\1 & 0 & 0 & 1 & 0 & 0 & 1 & 0 & 0\\end{matrix}\\right]\n"
     ]
    }
   ],
   "source": [
    "A = Matrix([\n",
    "    [0, sqrt(2), 0, sqrt(2),0,0,0,0,0], \n",
    "    [0,0,sqrt(2), 0, sqrt(2), 0, sqrt(2), 0,0], \n",
    "    [0, 0,0,0,0,sqrt(2),0,sqrt(2),0],\n",
    "    [1,1,1,0,0,0,0,0,0],\n",
    "    [0,0,0,1,1,1,0,0,0],\n",
    "    [0,0,0,0,0,0,1,1,1],\n",
    "    [0,sqrt(2),0,0,0,sqrt(2),0,0,0],\n",
    "    [sqrt(2),0,0,0,sqrt(2),0,0,0,sqrt(2)],\n",
    "    [0,0,0,sqrt(2),0,0,0,sqrt(2),0],\n",
    "    [0,0,1,0,0,1,0,0,1],\n",
    "    [0,1,0,0,1,0,0,1,0],\n",
    "    [1,0,0,1,0,0,1,0,0]])\n",
    "\n",
    "A_symbol = symbols(\"A\")\n",
    "print(latex(Eq(S(A_symbol),A,evaluate=False)))"
   ]
  },
  {
   "cell_type": "code",
   "execution_count": 426,
   "id": "5130bc26",
   "metadata": {},
   "outputs": [
    {
     "ename": "NonSquareMatrixError",
     "evalue": "",
     "output_type": "error",
     "traceback": [
      "\u001b[0;31m---------------------------------------------------------------------------\u001b[0m",
      "\u001b[0;31mNonSquareMatrixError\u001b[0m                      Traceback (most recent call last)",
      "\u001b[1;32m/mnt/c/Users/Ballasch/Documents/_uni/Praktikum/V14/Code.ipynb Cell 58\u001b[0m in \u001b[0;36m<cell line: 1>\u001b[0;34m()\u001b[0m\n\u001b[0;32m----> <a href='vscode-notebook-cell://wsl%2Bubuntu/mnt/c/Users/Ballasch/Documents/_uni/Praktikum/V14/Code.ipynb#ch0000058vscode-remote?line=0'>1</a>\u001b[0m A\u001b[39m.\u001b[39;49mdet()\n",
      "File \u001b[0;32m~/.local/anaconda3/lib/python3.9/site-packages/sympy/matrices/matrices.py:131\u001b[0m, in \u001b[0;36mMatrixDeterminant.det\u001b[0;34m(self, method, iszerofunc)\u001b[0m\n\u001b[1;32m    130\u001b[0m \u001b[39mdef\u001b[39;00m \u001b[39mdet\u001b[39m(\u001b[39mself\u001b[39m, method\u001b[39m=\u001b[39m\u001b[39m\"\u001b[39m\u001b[39mbareiss\u001b[39m\u001b[39m\"\u001b[39m, iszerofunc\u001b[39m=\u001b[39m\u001b[39mNone\u001b[39;00m):\n\u001b[0;32m--> 131\u001b[0m     \u001b[39mreturn\u001b[39;00m _det(\u001b[39mself\u001b[39;49m, method\u001b[39m=\u001b[39;49mmethod, iszerofunc\u001b[39m=\u001b[39;49miszerofunc)\n",
      "File \u001b[0;32m~/.local/anaconda3/lib/python3.9/site-packages/sympy/matrices/determinant.py:666\u001b[0m, in \u001b[0;36m_det\u001b[0;34m(M, method, iszerofunc)\u001b[0m\n\u001b[1;32m    663\u001b[0m         \u001b[39mreturn\u001b[39;00m _get_intermediate_simp(_dotprodsimp)(m)\n\u001b[1;32m    665\u001b[0m dets \u001b[39m=\u001b[39m []\n\u001b[0;32m--> 666\u001b[0m \u001b[39mfor\u001b[39;00m b \u001b[39min\u001b[39;00m M\u001b[39m.\u001b[39;49mstrongly_connected_components():\n\u001b[1;32m    667\u001b[0m     \u001b[39mif\u001b[39;00m method \u001b[39m==\u001b[39m \u001b[39m\"\u001b[39m\u001b[39mdomain-ge\u001b[39m\u001b[39m\"\u001b[39m: \u001b[39m# uses DomainMatrix to evalute determinant\u001b[39;00m\n\u001b[1;32m    668\u001b[0m         det \u001b[39m=\u001b[39m _det_DOM(M[b, b])\n",
      "File \u001b[0;32m~/.local/anaconda3/lib/python3.9/site-packages/sympy/matrices/matrices.py:2233\u001b[0m, in \u001b[0;36mMatrixBase.strongly_connected_components\u001b[0;34m(self)\u001b[0m\n\u001b[1;32m   2232\u001b[0m \u001b[39mdef\u001b[39;00m \u001b[39mstrongly_connected_components\u001b[39m(\u001b[39mself\u001b[39m):\n\u001b[0;32m-> 2233\u001b[0m     \u001b[39mreturn\u001b[39;00m _strongly_connected_components(\u001b[39mself\u001b[39;49m)\n",
      "File \u001b[0;32m~/.local/anaconda3/lib/python3.9/site-packages/sympy/matrices/graph.py:65\u001b[0m, in \u001b[0;36m_strongly_connected_components\u001b[0;34m(M)\u001b[0m\n\u001b[1;32m     44\u001b[0m \u001b[39m\"\"\"Returns the list of strongly connected vertices of the graph when\u001b[39;00m\n\u001b[1;32m     45\u001b[0m \u001b[39ma square matrix is viewed as a weighted graph.\u001b[39;00m\n\u001b[1;32m     46\u001b[0m \n\u001b[0;32m   (...)\u001b[0m\n\u001b[1;32m     62\u001b[0m \u001b[39m[[0, 4, 6], [2, 3, 7], [1, 5, 8]]\u001b[39;00m\n\u001b[1;32m     63\u001b[0m \u001b[39m\"\"\"\u001b[39;00m\n\u001b[1;32m     64\u001b[0m \u001b[39mif\u001b[39;00m \u001b[39mnot\u001b[39;00m M\u001b[39m.\u001b[39mis_square:\n\u001b[0;32m---> 65\u001b[0m     \u001b[39mraise\u001b[39;00m NonSquareMatrixError\n\u001b[1;32m     67\u001b[0m \u001b[39m# RepMatrix uses the more efficient DomainMatrix.scc() method\u001b[39;00m\n\u001b[1;32m     68\u001b[0m rep \u001b[39m=\u001b[39m \u001b[39mgetattr\u001b[39m(M, \u001b[39m'\u001b[39m\u001b[39m_rep\u001b[39m\u001b[39m'\u001b[39m, \u001b[39mNone\u001b[39;00m)\n",
      "\u001b[0;31mNonSquareMatrixError\u001b[0m: "
     ]
    }
   ],
   "source": []
  }
 ],
 "metadata": {
  "kernelspec": {
   "display_name": "Python 3.9.12 ('base')",
   "language": "python",
   "name": "python3"
  },
  "language_info": {
   "codemirror_mode": {
    "name": "ipython",
    "version": 3
   },
   "file_extension": ".py",
   "mimetype": "text/x-python",
   "name": "python",
   "nbconvert_exporter": "python",
   "pygments_lexer": "ipython3",
   "version": "3.9.12"
  },
  "vscode": {
   "interpreter": {
    "hash": "4ff68fc3c4f612bdd407460aa542a69bb060862b7961a1169aa6f7c96474d5a2"
   }
  }
 },
 "nbformat": 4,
 "nbformat_minor": 5
}
